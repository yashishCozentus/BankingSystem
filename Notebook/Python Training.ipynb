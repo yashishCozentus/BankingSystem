{
 "cells": [
  {
   "cell_type": "code",
   "execution_count": 1,
   "id": "4a8d5db4",
   "metadata": {},
   "outputs": [],
   "source": [
    "#Variables\n",
    "a = 10\n"
   ]
  },
  {
   "cell_type": "code",
   "execution_count": 2,
   "id": "4644d067",
   "metadata": {},
   "outputs": [
    {
     "data": {
      "text/plain": [
       "int"
      ]
     },
     "execution_count": 2,
     "metadata": {},
     "output_type": "execute_result"
    }
   ],
   "source": [
    "type(a)"
   ]
  },
  {
   "cell_type": "code",
   "execution_count": 3,
   "id": "b276a303",
   "metadata": {},
   "outputs": [
    {
     "data": {
      "text/plain": [
       "list"
      ]
     },
     "execution_count": 3,
     "metadata": {},
     "output_type": "execute_result"
    }
   ],
   "source": [
    "a = [1,2]\n",
    "type(a)"
   ]
  },
  {
   "cell_type": "code",
   "execution_count": 4,
   "id": "6b60eb0b",
   "metadata": {},
   "outputs": [],
   "source": [
    "x = [1,2,3,4,5]"
   ]
  },
  {
   "cell_type": "code",
   "execution_count": 5,
   "id": "3916932d",
   "metadata": {},
   "outputs": [],
   "source": [
    "y = [2,3,4,5,6]\n"
   ]
  },
  {
   "cell_type": "code",
   "execution_count": 6,
   "id": "a8d60d6a",
   "metadata": {},
   "outputs": [
    {
     "data": {
      "text/plain": [
       "[1, 2, 3, 4, 5, 2, 3, 4, 5, 6]"
      ]
     },
     "execution_count": 6,
     "metadata": {},
     "output_type": "execute_result"
    }
   ],
   "source": [
    "x+y"
   ]
  },
  {
   "cell_type": "code",
   "execution_count": 7,
   "id": "371d1c03",
   "metadata": {},
   "outputs": [
    {
     "ename": "SyntaxError",
     "evalue": "invalid syntax (4286401367.py, line 1)",
     "output_type": "error",
     "traceback": [
      "\u001b[1;36m  Cell \u001b[1;32mIn[7], line 1\u001b[1;36m\u001b[0m\n\u001b[1;33m    read about dot product\u001b[0m\n\u001b[1;37m         ^\u001b[0m\n\u001b[1;31mSyntaxError\u001b[0m\u001b[1;31m:\u001b[0m invalid syntax\n"
     ]
    }
   ],
   "source": [
    "read about dot product"
   ]
  },
  {
   "cell_type": "code",
   "execution_count": null,
   "id": "9f1e8091",
   "metadata": {},
   "outputs": [],
   "source": [
    "# Assignment: Learn about Keywords and datatypes\n",
    "#    20+ keywords on a document\n",
    "#    Introduction to Programing -PE1\n",
    "#    Module 1.1 - 1.4"
   ]
  },
  {
   "cell_type": "code",
   "execution_count": null,
   "id": "5b2f9a9b",
   "metadata": {},
   "outputs": [],
   "source": [
    "#Tokens are the smallest unit in a programming language\n",
    "#These are 1.keywords,2.Operators, 3.Data Types(Primitive), 4.Namespace."
   ]
  },
  {
   "cell_type": "code",
   "execution_count": null,
   "id": "a91022d8",
   "metadata": {},
   "outputs": [],
   "source": [
    "j = 0\n",
    "while j<9:\n",
    "    j=j+1\n",
    "    if j == 3:\n",
    "        continue\n",
    "    print(j)"
   ]
  },
  {
   "cell_type": "code",
   "execution_count": null,
   "id": "6b4b5cf0",
   "metadata": {},
   "outputs": [],
   "source": [
    "import datetime as dt"
   ]
  },
  {
   "cell_type": "code",
   "execution_count": null,
   "id": "e4ad8d80",
   "metadata": {},
   "outputs": [],
   "source": [
    "list1 = ['a','b','c']\n",
    "'a' in list1"
   ]
  },
  {
   "cell_type": "code",
   "execution_count": null,
   "id": "27d7da17",
   "metadata": {},
   "outputs": [],
   "source": [
    "a = 10\n",
    "type(a)\n",
    "b = a\n",
    "type(b)"
   ]
  },
  {
   "cell_type": "code",
   "execution_count": null,
   "id": "a5cc1085",
   "metadata": {},
   "outputs": [],
   "source": [
    "a = \"10\"\n",
    "b = a\n",
    "type(b)"
   ]
  },
  {
   "cell_type": "code",
   "execution_count": null,
   "id": "8ffff928",
   "metadata": {},
   "outputs": [],
   "source": [
    "1+2\n"
   ]
  },
  {
   "cell_type": "code",
   "execution_count": null,
   "id": "3603114b",
   "metadata": {},
   "outputs": [],
   "source": [
    "#IS operator vs \"==\"\n",
    "a = [1,2,3]\n",
    "b = a\n",
    "c = a[:]\n"
   ]
  },
  {
   "cell_type": "code",
   "execution_count": null,
   "id": "624af70d",
   "metadata": {},
   "outputs": [],
   "source": [
    "a == b"
   ]
  },
  {
   "cell_type": "code",
   "execution_count": null,
   "id": "ee66fd5e",
   "metadata": {},
   "outputs": [],
   "source": [
    "a == c"
   ]
  },
  {
   "cell_type": "code",
   "execution_count": null,
   "id": "ba5e21ef",
   "metadata": {},
   "outputs": [],
   "source": [
    "a is b"
   ]
  },
  {
   "cell_type": "code",
   "execution_count": null,
   "id": "ae258982",
   "metadata": {},
   "outputs": [],
   "source": [
    "a is c"
   ]
  },
  {
   "cell_type": "code",
   "execution_count": null,
   "id": "7042f99a",
   "metadata": {},
   "outputs": [],
   "source": [
    "print(a[:])"
   ]
  },
  {
   "cell_type": "code",
   "execution_count": null,
   "id": "64482757",
   "metadata": {},
   "outputs": [],
   "source": [
    "x = \"Hello\"\n"
   ]
  },
  {
   "cell_type": "code",
   "execution_count": null,
   "id": "02ee0769",
   "metadata": {},
   "outputs": [],
   "source": [
    "assert x == \"Goodbye\""
   ]
  },
  {
   "cell_type": "code",
   "execution_count": null,
   "id": "6ccb1e28",
   "metadata": {},
   "outputs": [],
   "source": [
    "x = None\n",
    "#The 'None' keyword is used to define a 'NULL' value, or no value at all.\n",
    "#'None' is not the same as 0, False, or an empty string. None is a data type of its own.\n",
    "\n",
    "type(x)"
   ]
  },
  {
   "cell_type": "code",
   "execution_count": null,
   "id": "cca89012",
   "metadata": {},
   "outputs": [],
   "source": [
    "def func1():\n",
    "    x = 'Yashish'\n",
    "    def func2():\n",
    "        nonlocal x\n",
    "        x = 'Mohanty'\n",
    "    func2()\n",
    "    return x\n",
    "print(func1()) \n",
    "        "
   ]
  },
  {
   "cell_type": "markdown",
   "id": "d12b44af",
   "metadata": {},
   "source": [
    "PYTHON TRAINING DAY 2"
   ]
  },
  {
   "cell_type": "code",
   "execution_count": null,
   "id": "44ffc669",
   "metadata": {},
   "outputs": [],
   "source": [
    "#User Defined Inputs\n",
    "#String Interpolation\n",
    "#Python Operators"
   ]
  },
  {
   "cell_type": "code",
   "execution_count": null,
   "id": "2ca8182d",
   "metadata": {},
   "outputs": [],
   "source": [
    "a = input('Enter your age')"
   ]
  },
  {
   "cell_type": "code",
   "execution_count": null,
   "id": "f2611e34",
   "metadata": {},
   "outputs": [],
   "source": [
    "type(a)"
   ]
  },
  {
   "cell_type": "code",
   "execution_count": null,
   "id": "f1f73491",
   "metadata": {},
   "outputs": [],
   "source": [
    "a  = int(input(\"Enter the age \"))"
   ]
  },
  {
   "cell_type": "code",
   "execution_count": null,
   "id": "abd84c15",
   "metadata": {},
   "outputs": [],
   "source": [
    "type(a)"
   ]
  },
  {
   "cell_type": "code",
   "execution_count": null,
   "id": "dca9baa1",
   "metadata": {},
   "outputs": [],
   "source": [
    "a = list(input())"
   ]
  },
  {
   "cell_type": "markdown",
   "id": "0515c56a",
   "metadata": {},
   "source": [
    "2\n",
    "3\n"
   ]
  },
  {
   "cell_type": "code",
   "execution_count": null,
   "id": "960f30d3",
   "metadata": {},
   "outputs": [],
   "source": [
    "list1 = list(input())"
   ]
  },
  {
   "cell_type": "code",
   "execution_count": null,
   "id": "42b20e61",
   "metadata": {},
   "outputs": [],
   "source": [
    "print(list1)"
   ]
  },
  {
   "cell_type": "code",
   "execution_count": null,
   "id": "3b4825ca",
   "metadata": {},
   "outputs": [],
   "source": [
    "list2 = list(input())"
   ]
  },
  {
   "cell_type": "code",
   "execution_count": null,
   "id": "09e7ac07",
   "metadata": {},
   "outputs": [],
   "source": [
    "print(list1)"
   ]
  },
  {
   "cell_type": "code",
   "execution_count": null,
   "id": "dd8f2fd1",
   "metadata": {},
   "outputs": [],
   "source": [
    "list1.split(\",\")"
   ]
  },
  {
   "cell_type": "code",
   "execution_count": null,
   "id": "62f52aaa",
   "metadata": {},
   "outputs": [],
   "source": [
    "list3 = list(input())"
   ]
  },
  {
   "cell_type": "code",
   "execution_count": null,
   "id": "01f7fa53",
   "metadata": {},
   "outputs": [],
   "source": [
    "print(list(map('',list3)))"
   ]
  },
  {
   "cell_type": "code",
   "execution_count": null,
   "id": "64bc04b8",
   "metadata": {},
   "outputs": [],
   "source": [
    "a = [1,2,3]\n",
    "b = a\n",
    "c = a[:]\n"
   ]
  },
  {
   "cell_type": "code",
   "execution_count": null,
   "id": "1544c549",
   "metadata": {},
   "outputs": [],
   "source": [
    "a == b"
   ]
  },
  {
   "cell_type": "code",
   "execution_count": null,
   "id": "d0794df0",
   "metadata": {},
   "outputs": [],
   "source": [
    "a == c"
   ]
  },
  {
   "cell_type": "code",
   "execution_count": null,
   "id": "a8a58870",
   "metadata": {},
   "outputs": [],
   "source": [
    "a is c"
   ]
  },
  {
   "cell_type": "code",
   "execution_count": null,
   "id": "a40ab341",
   "metadata": {},
   "outputs": [],
   "source": [
    "print(a[:])"
   ]
  },
  {
   "cell_type": "code",
   "execution_count": null,
   "id": "5a09cc33",
   "metadata": {},
   "outputs": [],
   "source": [
    "print('Hello', end=' ')\n",
    "print('Yashish')"
   ]
  },
  {
   "cell_type": "code",
   "execution_count": null,
   "id": "f495223b",
   "metadata": {},
   "outputs": [],
   "source": [
    "print('''Hello world\n",
    "          hello world 2\n",
    "            hello world 3''')"
   ]
  },
  {
   "cell_type": "code",
   "execution_count": null,
   "id": "0e8f0647",
   "metadata": {},
   "outputs": [],
   "source": [
    "#String Interpolation\n"
   ]
  },
  {
   "cell_type": "code",
   "execution_count": null,
   "id": "03f2d4db",
   "metadata": {},
   "outputs": [],
   "source": [
    "a = 'Hello'\n",
    "print('a world')"
   ]
  },
  {
   "cell_type": "code",
   "execution_count": null,
   "id": "8b98629f",
   "metadata": {},
   "outputs": [],
   "source": [
    "#Modulo '%'\n",
    "# f string\n",
    "#string formate\n",
    "#Class template"
   ]
  },
  {
   "cell_type": "code",
   "execution_count": null,
   "id": "389c994e",
   "metadata": {},
   "outputs": [],
   "source": [
    "a = 'Hello'\n",
    "print(f'{a} world')"
   ]
  },
  {
   "cell_type": "code",
   "execution_count": null,
   "id": "7610c393",
   "metadata": {},
   "outputs": [],
   "source": [
    "print('{a1},{a2},{a3} world'.format(a1 = a))"
   ]
  },
  {
   "cell_type": "code",
   "execution_count": null,
   "id": "41584e2d",
   "metadata": {},
   "outputs": [],
   "source": [
    "print('{a} Mohanty'.format(a = 'Yashish'))"
   ]
  },
  {
   "cell_type": "code",
   "execution_count": null,
   "id": "33d795b3",
   "metadata": {},
   "outputs": [],
   "source": [
    "print('{},{},{},{}'.format(1,2,3,4))"
   ]
  },
  {
   "cell_type": "code",
   "execution_count": null,
   "id": "118c5fab",
   "metadata": {},
   "outputs": [],
   "source": [
    "# Modulo % \n",
    "print('%s world' %(a))"
   ]
  },
  {
   "cell_type": "code",
   "execution_count": null,
   "id": "fc0b301d",
   "metadata": {},
   "outputs": [],
   "source": [
    "#Class templates\n",
    "from string import Template\n",
    "temp = Template('$n1 $n2')\n",
    "for i in range(10):\n",
    "    print(temp.substitute(n1 = i,n2 = i+1))"
   ]
  },
  {
   "cell_type": "code",
   "execution_count": null,
   "id": "c110adaf",
   "metadata": {},
   "outputs": [],
   "source": [
    "print(11_111_11)"
   ]
  },
  {
   "cell_type": "code",
   "execution_count": null,
   "id": "ef5f6e31",
   "metadata": {},
   "outputs": [],
   "source": [
    "print(11,11,111)"
   ]
  },
  {
   "cell_type": "code",
   "execution_count": null,
   "id": "e4b4b754",
   "metadata": {},
   "outputs": [],
   "source": [
    "list4 = input().split(',')"
   ]
  },
  {
   "cell_type": "code",
   "execution_count": null,
   "id": "5d6c5e68",
   "metadata": {},
   "outputs": [],
   "source": [
    "print(list4)\n"
   ]
  },
  {
   "cell_type": "code",
   "execution_count": null,
   "id": "e03b2311",
   "metadata": {},
   "outputs": [],
   "source": [
    "type(list4)\n"
   ]
  },
  {
   "cell_type": "raw",
   "id": "b0000e20",
   "metadata": {},
   "source": [
    "## Arithmetic Operators\n",
    "\n",
    " +,-,/,%,**,*,//   PEMDAS(Parenthesis, Exponentiation,   Multiplication,Division, Addision, Division)\n",
    "\n",
    "## Comparision Operators\n",
    "\n",
    " > , < , >=, <=, ==, !=\n",
    "\n",
    "## Logical Operators\n",
    "\n",
    " OR, AND, XOR..\n",
    "\n",
    "## Bitwise Operators\n",
    "\n",
    " >>,<<\n",
    "\n",
    "## Assignment Operators\n",
    " =, +=, -=, /=, %=, **= ...\n",
    "\n",
    "\n",
    "## Ternary Operator\n",
    "\n",
    " if condition then result else else's result\n",
    "\n",
    "\n",
    "\n",
    "\n"
   ]
  },
  {
   "cell_type": "raw",
   "id": "28e8b5dd",
   "metadata": {},
   "source": [
    "# Identity operators & Membership operators\n",
    "# is, in, is not, not in"
   ]
  },
  {
   "cell_type": "code",
   "execution_count": null,
   "id": "ea78ecbe",
   "metadata": {},
   "outputs": [],
   "source": [
    "#LOGICAL OP\n",
    "#AND\n",
    "x = 100\n",
    "\n",
    "print(x > 3 and x < 10)"
   ]
  },
  {
   "cell_type": "code",
   "execution_count": null,
   "id": "d9a2ee1e",
   "metadata": {},
   "outputs": [],
   "source": [
    "#OR\n",
    "x = 100\n",
    "\n",
    "print(x > 3 or x < 10)\n"
   ]
  },
  {
   "cell_type": "code",
   "execution_count": null,
   "id": "8e968a08",
   "metadata": {},
   "outputs": [],
   "source": [
    "#NOT \n",
    "\n",
    "x = int(input())\n",
    "y = int(input())\n",
    " \n",
    "x = x / y\n",
    "y = y / x\n",
    " \n",
    "print(y)"
   ]
  },
  {
   "cell_type": "code",
   "execution_count": null,
   "id": "e7e89304",
   "metadata": {},
   "outputs": [],
   "source": [
    "x = int(input())\n",
    "y = int(input())\n",
    " \n",
    "x = x % y\n",
    "x = x % y\n",
    "y = y % x\n",
    " \n",
    "print(y)"
   ]
  },
  {
   "cell_type": "code",
   "execution_count": null,
   "id": "f667c6fd",
   "metadata": {},
   "outputs": [],
   "source": [
    "x = 1 / 2 + 3 // 3 + 4 ** 2\n",
    "print(x)"
   ]
  },
  {
   "cell_type": "code",
   "execution_count": null,
   "id": "1483a4fb",
   "metadata": {},
   "outputs": [],
   "source": [
    "x = 5\n",
    "y = 3\n",
    "\n",
    "print(x + y)"
   ]
  },
  {
   "cell_type": "code",
   "execution_count": null,
   "id": "d2962f50",
   "metadata": {},
   "outputs": [],
   "source": [
    "print(x-y)"
   ]
  },
  {
   "cell_type": "code",
   "execution_count": null,
   "id": "3f4d5326",
   "metadata": {},
   "outputs": [],
   "source": [
    "x/y"
   ]
  },
  {
   "cell_type": "code",
   "execution_count": null,
   "id": "ec9709fa",
   "metadata": {},
   "outputs": [],
   "source": [
    "x*y"
   ]
  },
  {
   "cell_type": "code",
   "execution_count": null,
   "id": "3e01cdf7",
   "metadata": {},
   "outputs": [],
   "source": [
    "x%y"
   ]
  },
  {
   "cell_type": "code",
   "execution_count": null,
   "id": "a9de638a",
   "metadata": {},
   "outputs": [],
   "source": [
    "x**y"
   ]
  },
  {
   "cell_type": "code",
   "execution_count": null,
   "id": "2ebbdbd6",
   "metadata": {},
   "outputs": [],
   "source": [
    "x//y"
   ]
  },
  {
   "cell_type": "code",
   "execution_count": null,
   "id": "ac1a8075",
   "metadata": {},
   "outputs": [],
   "source": [
    "x += 3\n",
    "print(x)"
   ]
  },
  {
   "cell_type": "code",
   "execution_count": null,
   "id": "0990699e",
   "metadata": {},
   "outputs": [],
   "source": [
    "x -= 1\n",
    "print(x)    "
   ]
  },
  {
   "cell_type": "code",
   "execution_count": null,
   "id": "4ed754e9",
   "metadata": {},
   "outputs": [],
   "source": [
    "x *= 2\n",
    "print(x)"
   ]
  },
  {
   "cell_type": "code",
   "execution_count": null,
   "id": "e443ca1d",
   "metadata": {},
   "outputs": [],
   "source": [
    "x /= 3\n",
    "print(x)"
   ]
  },
  {
   "cell_type": "code",
   "execution_count": null,
   "id": "b8960da5",
   "metadata": {},
   "outputs": [],
   "source": [
    "x %= 1\n",
    "print(x)"
   ]
  },
  {
   "cell_type": "code",
   "execution_count": null,
   "id": "172b3900",
   "metadata": {},
   "outputs": [],
   "source": [
    "x == y"
   ]
  },
  {
   "cell_type": "code",
   "execution_count": null,
   "id": "c597ee98",
   "metadata": {},
   "outputs": [],
   "source": [
    "x != y"
   ]
  },
  {
   "cell_type": "code",
   "execution_count": null,
   "id": "405aea78",
   "metadata": {},
   "outputs": [],
   "source": [
    "x > y"
   ]
  },
  {
   "cell_type": "code",
   "execution_count": null,
   "id": "b01c6e84",
   "metadata": {},
   "outputs": [],
   "source": [
    "x < y"
   ]
  },
  {
   "cell_type": "code",
   "execution_count": null,
   "id": "cb0c15cb",
   "metadata": {},
   "outputs": [],
   "source": [
    "x is y"
   ]
  },
  {
   "cell_type": "code",
   "execution_count": null,
   "id": "fa474200",
   "metadata": {},
   "outputs": [],
   "source": [
    "x is not y"
   ]
  },
  {
   "cell_type": "code",
   "execution_count": null,
   "id": "a00c777e",
   "metadata": {},
   "outputs": [],
   "source": [
    "x = 3\n",
    "y = 3.0\n",
    "print(x==y)\n",
    "print(x is y)"
   ]
  },
  {
   "cell_type": "code",
   "execution_count": null,
   "id": "867bbdfb",
   "metadata": {},
   "outputs": [],
   "source": [
    "# STRING MANUPULATION\n",
    "a = '0123456789'\n",
    "a[:]"
   ]
  },
  {
   "cell_type": "code",
   "execution_count": null,
   "id": "519e900a",
   "metadata": {},
   "outputs": [],
   "source": [
    "a[:6] #[start(included):end(not included):step value]"
   ]
  },
  {
   "cell_type": "code",
   "execution_count": null,
   "id": "7a4eec04",
   "metadata": {},
   "outputs": [],
   "source": [
    "a[-1]"
   ]
  },
  {
   "cell_type": "code",
   "execution_count": null,
   "id": "4962d707",
   "metadata": {},
   "outputs": [],
   "source": [
    "a[::-1]"
   ]
  },
  {
   "cell_type": "code",
   "execution_count": null,
   "id": "776e8ff5",
   "metadata": {},
   "outputs": [],
   "source": [
    "a[::2]"
   ]
  },
  {
   "cell_type": "code",
   "execution_count": null,
   "id": "52fd7558",
   "metadata": {},
   "outputs": [],
   "source": [
    "a[:6:3]"
   ]
  },
  {
   "cell_type": "code",
   "execution_count": null,
   "id": "2e0274c4",
   "metadata": {},
   "outputs": [],
   "source": [
    "a[:-5:-2]"
   ]
  },
  {
   "cell_type": "code",
   "execution_count": null,
   "id": "2633d932",
   "metadata": {},
   "outputs": [],
   "source": [
    "#String Functions/Methods\n",
    "len(a)"
   ]
  },
  {
   "cell_type": "code",
   "execution_count": null,
   "id": "6df3aabd",
   "metadata": {},
   "outputs": [],
   "source": [
    "c = a.replace('3','4')\n",
    "type(c)"
   ]
  },
  {
   "cell_type": "code",
   "execution_count": null,
   "id": "6a18f119",
   "metadata": {},
   "outputs": [],
   "source": [
    "print(a is c)\n",
    "print(id(a))\n",
    "print(id(c))\n",
    "type(a.replace('3','4'))"
   ]
  },
  {
   "cell_type": "code",
   "execution_count": null,
   "id": "c9bc88b9",
   "metadata": {},
   "outputs": [],
   "source": [
    "#Replace copies the string value in 'a' and then replace the values and assigns it to another."
   ]
  },
  {
   "cell_type": "code",
   "execution_count": null,
   "id": "9cdc56db",
   "metadata": {},
   "outputs": [],
   "source": [
    "#Title, capitalize"
   ]
  },
  {
   "cell_type": "code",
   "execution_count": null,
   "id": "1c750c9b",
   "metadata": {},
   "outputs": [],
   "source": [
    "#Check if a number is a valid phone number or not\n",
    "-13 digits\n",
    "-should not end with anything expect 0-9\n",
    "-should start with +91"
   ]
  },
  {
   "cell_type": "code",
   "execution_count": null,
   "id": "f5e1a961",
   "metadata": {},
   "outputs": [],
   "source": [
    "import re\n",
    "def is_valid_phone_number(number):\n",
    "    # Define a regular expression pattern to match the phone number format\n",
    "    pattern = r'^\\+91\\d{11}$'\n",
    "\n",
    "    # Use the re.match function to check if the number matches the pattern\n",
    "    if re.match(pattern, number):\n",
    "        return True\n",
    "    else:\n",
    "        return False"
   ]
  },
  {
   "cell_type": "code",
   "execution_count": null,
   "id": "8763a7a9",
   "metadata": {},
   "outputs": [],
   "source": [
    "def is_valid(num):\n",
    "    if (len(num) == 13) and (num[:3] == '+91'):\n",
    "        a = 0\n",
    "        for i in (num[3:]):\n",
    "            if i in range(10):\n",
    "                a = a+1\n",
    "        if(a>0):\n",
    "            print(\"valid\")\n",
    "                    "
   ]
  },
  {
   "cell_type": "code",
   "execution_count": null,
   "id": "d042b1d0",
   "metadata": {},
   "outputs": [],
   "source": []
  },
  {
   "cell_type": "code",
   "execution_count": null,
   "id": "5f00f25d",
   "metadata": {},
   "outputs": [],
   "source": [
    "def is_valid(num):\n",
    "    if (len(num) == 13) and (num[:3] == '+91') and num[1:].isdigit():\n",
    "        print(\"Valid\")\n",
    "    else:\n",
    "        print(\"Invalid\")"
   ]
  },
  {
   "cell_type": "code",
   "execution_count": null,
   "id": "bbd63bbb",
   "metadata": {},
   "outputs": [],
   "source": [
    "num = input()\n",
    "ans = is_valid(num)\n"
   ]
  },
  {
   "cell_type": "code",
   "execution_count": null,
   "id": "d358b97e",
   "metadata": {},
   "outputs": [],
   "source": [
    "l1 = [[1,2,3],[1,[2,3,[3,[4,6,[1,'X']]]],[4,5]]]"
   ]
  },
  {
   "cell_type": "code",
   "execution_count": null,
   "id": "ac5b7e57",
   "metadata": {},
   "outputs": [],
   "source": [
    "l1[1][1][2][1][2][1]"
   ]
  },
  {
   "cell_type": "markdown",
   "id": "874b9a69",
   "metadata": {},
   "source": [
    "## STRING METHODS"
   ]
  },
  {
   "cell_type": "code",
   "execution_count": null,
   "id": "eecef77f",
   "metadata": {},
   "outputs": [],
   "source": [
    "a = \"Yashish\"\n",
    "print(len(a))"
   ]
  },
  {
   "cell_type": "code",
   "execution_count": null,
   "id": "46afaa74",
   "metadata": {},
   "outputs": [],
   "source": [
    "x = \"Yashish Mohanty\"\n",
    "\n",
    "x = x.capitalize()\n",
    "\n",
    "print (x)"
   ]
  },
  {
   "cell_type": "code",
   "execution_count": null,
   "id": "3ee915d8",
   "metadata": {},
   "outputs": [],
   "source": [
    "x = \"Hello Yashish\"\n",
    "\n",
    "x = x.casefold()\n",
    "\n",
    "print(x)"
   ]
  },
  {
   "cell_type": "code",
   "execution_count": null,
   "id": "0d13c47c",
   "metadata": {},
   "outputs": [],
   "source": [
    "txt = \"banana\"\n",
    "\n",
    "x = txt.center(20,'-')\n",
    "\n",
    "print(x)"
   ]
  },
  {
   "cell_type": "code",
   "execution_count": null,
   "id": "49d960b8",
   "metadata": {},
   "outputs": [],
   "source": [
    "x = \"I love apples, apple are my favorite fruit\"\n",
    "\n",
    "x = x.count(\"apple\")\n",
    "\n",
    "print(x)"
   ]
  },
  {
   "cell_type": "code",
   "execution_count": null,
   "id": "d62553ae",
   "metadata": {},
   "outputs": [],
   "source": [
    "x = \"Hello, welcome to my world.\"\n",
    "\n",
    "x = x.find(\"welcome\")\n",
    "\n",
    "print(x)"
   ]
  },
  {
   "cell_type": "code",
   "execution_count": null,
   "id": "64b0450e",
   "metadata": {},
   "outputs": [],
   "source": [
    "x = \"Hello, welcome to my world.\"\n",
    "\n",
    "x = x.index(\"world\")\n",
    "\n",
    "print(x)"
   ]
  },
  {
   "cell_type": "code",
   "execution_count": null,
   "id": "bf91a2db",
   "metadata": {},
   "outputs": [],
   "source": [
    "x = \"50\"\n",
    "\n",
    "x = x.zfill(10)\n",
    "\n",
    "print(x)"
   ]
  },
  {
   "cell_type": "code",
   "execution_count": null,
   "id": "e1098a1c",
   "metadata": {},
   "outputs": [],
   "source": [
    "x = \"Welcome to my world\"\n",
    "\n",
    "x = x.title()\n",
    "\n",
    "print(x)"
   ]
  },
  {
   "cell_type": "code",
   "execution_count": null,
   "id": "1487ce1a",
   "metadata": {},
   "outputs": [],
   "source": [
    "x = \"welcome to the jungle\"\n",
    "\n",
    "x = x.split()\n",
    "\n",
    "print(x)"
   ]
  },
  {
   "cell_type": "code",
   "execution_count": null,
   "id": "d15e694d",
   "metadata": {},
   "outputs": [],
   "source": [
    "txt = \"I could eat bananas all day\"\n",
    "\n",
    "x = txt.partition(\"I\")\n",
    "\n",
    "print(x)"
   ]
  },
  {
   "cell_type": "code",
   "execution_count": null,
   "id": "8b37120f",
   "metadata": {},
   "outputs": [],
   "source": [
    "fruits = ['apple', 'banana', 'cherry']\n",
    "fruits.append(\"orange\")\n",
    "fruits"
   ]
  },
  {
   "cell_type": "code",
   "execution_count": null,
   "id": "183aadad",
   "metadata": {},
   "outputs": [],
   "source": [
    "fruits = ['apple', 'banana', 'cherry', 'orange']\n",
    "\n",
    "fruits.clear()\n",
    "fruits\n"
   ]
  },
  {
   "cell_type": "code",
   "execution_count": null,
   "id": "5ee1e1ec",
   "metadata": {},
   "outputs": [],
   "source": [
    "fruits = ['apple', 'banana', 'cherry', 'orange']\n",
    "\n",
    "x = fruits.copy()\n",
    "x"
   ]
  },
  {
   "cell_type": "code",
   "execution_count": null,
   "id": "09f63e88",
   "metadata": {},
   "outputs": [],
   "source": [
    "fruits = ['apple', 'banana', 'cherry']\n",
    "\n",
    "x = fruits.count(\"cherry\")\n",
    "x"
   ]
  },
  {
   "cell_type": "code",
   "execution_count": null,
   "id": "495f2a64",
   "metadata": {},
   "outputs": [],
   "source": [
    "fruits = ['apple', 'banana', 'cherry']\n",
    "\n",
    "cars = ['Ford', 'BMW', 'Volvo']\n",
    "\n",
    "fruits.extend(cars)\n",
    "fruits"
   ]
  },
  {
   "cell_type": "code",
   "execution_count": null,
   "id": "0c2d2cef",
   "metadata": {},
   "outputs": [],
   "source": [
    "fruits = ['apple', 'banana', 'cherry']\n",
    "\n",
    "x = fruits.index(\"cherry\")\n",
    "x"
   ]
  },
  {
   "cell_type": "code",
   "execution_count": null,
   "id": "d8137fea",
   "metadata": {},
   "outputs": [],
   "source": [
    "fruits = ['apple', 'banana', 'cherry']\n",
    "\n",
    "fruits.insert(1, \"orange\")\n",
    "fruits"
   ]
  },
  {
   "cell_type": "code",
   "execution_count": null,
   "id": "d9929d7f",
   "metadata": {},
   "outputs": [],
   "source": [
    "fruits = ['apple', 'banana', 'cherry']\n",
    "\n",
    "fruits.pop(1)\n",
    "print(fruits)\n",
    "fruits.pop()\n",
    "print(fruits)"
   ]
  },
  {
   "cell_type": "code",
   "execution_count": null,
   "id": "78548f36",
   "metadata": {},
   "outputs": [],
   "source": [
    "fruits = ['apple', 'banana', 'cherry']\n",
    "\n",
    "fruits.remove(\"banana\")\n",
    "print(fruits)"
   ]
  },
  {
   "cell_type": "code",
   "execution_count": null,
   "id": "8065d4a4",
   "metadata": {},
   "outputs": [],
   "source": [
    "fruits = ['apple', 'banana', 'cherry']\n",
    "\n",
    "fruits.reverse()\n",
    "fruits"
   ]
  },
  {
   "cell_type": "code",
   "execution_count": null,
   "id": "11f83e6c",
   "metadata": {},
   "outputs": [],
   "source": [
    "cars = ['Ford', 'BMW', 'Volvo']\n",
    "\n",
    "cars.sort()\n",
    "cars"
   ]
  },
  {
   "cell_type": "code",
   "execution_count": null,
   "id": "72cfc7f5",
   "metadata": {},
   "outputs": [],
   "source": [
    "a = ['Yashish','2','1']\n",
    "a.sort()"
   ]
  },
  {
   "cell_type": "code",
   "execution_count": null,
   "id": "408d73f7",
   "metadata": {},
   "outputs": [],
   "source": [
    "sampleList = [10, 20, 30, 40]\n",
    "del sampleList[0:6]\n",
    "print(sampleList)"
   ]
  },
  {
   "cell_type": "code",
   "execution_count": null,
   "id": "6b6757d1",
   "metadata": {},
   "outputs": [],
   "source": [
    "aList = [\"PYnative\", [4, 8, 12, 16]]\n",
    "print(aList[0][1])    \n",
    "print(aList[1][3])"
   ]
  },
  {
   "cell_type": "code",
   "execution_count": null,
   "id": "68449a02",
   "metadata": {},
   "outputs": [],
   "source": [
    "l = [None] * 10\n",
    "print(len(l))"
   ]
  },
  {
   "cell_type": "markdown",
   "id": "35646a63",
   "metadata": {},
   "source": [
    "# Tuples Methods"
   ]
  },
  {
   "cell_type": "code",
   "execution_count": null,
   "id": "a2ccbcd9",
   "metadata": {},
   "outputs": [],
   "source": [
    "tuple1 = (1, 3, 7, 8, 7, 5, 4, 6, 8, 5)\n",
    "\n",
    "x = tuple1.count(5)\n",
    "\n",
    "print(x)"
   ]
  },
  {
   "cell_type": "code",
   "execution_count": null,
   "id": "c88ba81d",
   "metadata": {},
   "outputs": [],
   "source": [
    "tuple1 = (1, 3, 7, 8, 7, 5, 4, 6, 8, 5)\n",
    "\n",
    "x = tuple1.index(8)\n",
    "\n",
    "print(x)"
   ]
  },
  {
   "cell_type": "code",
   "execution_count": null,
   "id": "7b46ebca",
   "metadata": {},
   "outputs": [],
   "source": [
    "sorted(tuple1)"
   ]
  },
  {
   "cell_type": "code",
   "execution_count": null,
   "id": "ce3a39f2",
   "metadata": {},
   "outputs": [],
   "source": [
    "max(tuple1)"
   ]
  },
  {
   "cell_type": "code",
   "execution_count": null,
   "id": "7dae797a",
   "metadata": {},
   "outputs": [],
   "source": [
    "sum(tuple1)"
   ]
  },
  {
   "cell_type": "markdown",
   "id": "8427e0e3",
   "metadata": {},
   "source": [
    "# Set Methods"
   ]
  },
  {
   "cell_type": "code",
   "execution_count": null,
   "id": "32e07b38",
   "metadata": {},
   "outputs": [],
   "source": [
    "# Add method for set\n",
    "fruits = {\"apple\", \"banana\", \"cherry\"}\n",
    "\n",
    "fruits.add(\"orange\")\n",
    "\n",
    "print(fruits)"
   ]
  },
  {
   "cell_type": "code",
   "execution_count": null,
   "id": "ccd9f7d1",
   "metadata": {},
   "outputs": [],
   "source": [
    "#Clear method empyts the set.\n",
    "fruits.clear()\n",
    "fruits"
   ]
  },
  {
   "cell_type": "code",
   "execution_count": null,
   "id": "c2d79e2c",
   "metadata": {},
   "outputs": [],
   "source": [
    "#Copy method copies a set to another set.\n",
    "fruits = {\"apple\", \"banana\", \"cherry\"}\n",
    "x = fruits.copy()\n",
    "x"
   ]
  },
  {
   "cell_type": "code",
   "execution_count": null,
   "id": "ac372a26",
   "metadata": {},
   "outputs": [],
   "source": [
    "#Difference method removes all the elements that that matches.\n",
    "x = {\"apple\", \"banana\", \"cherry\"}\n",
    "y = {\"google\", \"microsoft\", \"apple\"}\n",
    "\n",
    "z = x.difference(y)\n",
    "\n",
    "print(z)"
   ]
  },
  {
   "cell_type": "code",
   "execution_count": null,
   "id": "42e2e3c0",
   "metadata": {},
   "outputs": [],
   "source": [
    "#difference_update method removes all the elements that matches and stores in that set only, no need for another variable to store.\n",
    "x = {\"apple\", \"banana\", \"cherry\"}\n",
    "y = {\"google\", \"microsoft\", \"apple\"}\n",
    "\n",
    "x.difference_update(y)\n",
    "\n",
    "print(x)"
   ]
  },
  {
   "cell_type": "code",
   "execution_count": null,
   "id": "15cbe707",
   "metadata": {},
   "outputs": [],
   "source": [
    "# The discard() method removes the specified item from the set. This method is different from the remove() method, \n",
    "# because the remove() method will raise an error if the specified item does not exist, \n",
    "# and the discard() method will not.\n",
    "fruits = {\"apple\", \"banana\", \"cherry\"}\n",
    "\n",
    "fruits.discard(\"yashish\")\n",
    "\n",
    "print(fruits)"
   ]
  },
  {
   "cell_type": "code",
   "execution_count": null,
   "id": "65767520",
   "metadata": {},
   "outputs": [],
   "source": [
    "fruits = {\"apple\", \"banana\", \"cherry\"}\n",
    "\n",
    "fruits.remove(\"yashish\")\n",
    "\n",
    "print(fruits)"
   ]
  },
  {
   "cell_type": "code",
   "execution_count": null,
   "id": "83259485",
   "metadata": {},
   "outputs": [],
   "source": [
    "# Intersection method returns a set that contains those elements that are both present/common in the corresponding sets\n",
    "x = {\"apple\", \"banana\", \"cherry\"}\n",
    "y = {\"google\", \"microsoft\", \"apple\"}\n",
    "\n",
    "z = x.intersection(y)\n",
    "\n",
    "print(z)"
   ]
  },
  {
   "cell_type": "code",
   "execution_count": null,
   "id": "1b30bcba",
   "metadata": {},
   "outputs": [],
   "source": [
    "# Same as the intersection method but no return, instead it updates the same set.\n",
    "x = {\"apple\", \"banana\", \"cherry\"}\n",
    "y = {\"google\", \"microsoft\", \"apple\"}\n",
    "\n",
    "x.intersection_update(y)\n",
    "\n",
    "print(x)"
   ]
  },
  {
   "cell_type": "code",
   "execution_count": null,
   "id": "a21adf46",
   "metadata": {},
   "outputs": [],
   "source": [
    "# isdisjoint method is used to check if both the sets are intersecting or not.,i.e they have a common element or not.\n",
    "# True if not intersecting.\n",
    "# False if intersecting.\n",
    "x = {\"apple\", \"banana\", \"cherry\"}\n",
    "y = {\"google\", \"microsoft\", \"facebook\"}\n",
    "\n",
    "z = x.isdisjoint(y)\n",
    "\n",
    "print(z)"
   ]
  },
  {
   "cell_type": "code",
   "execution_count": null,
   "id": "e665ff9e",
   "metadata": {},
   "outputs": [],
   "source": [
    "#Return True if all items in 1st set are present in 2nd set.\n",
    "x = {\"a\", \"b\", \"c\"}\n",
    "y = {\"f\", \"e\", \"d\", \"c\", \"b\", \"a\"}\n",
    "\n",
    "z = x.issubset(y)\n",
    "\n",
    "print(z)"
   ]
  },
  {
   "cell_type": "code",
   "execution_count": null,
   "id": "b90887d5",
   "metadata": {},
   "outputs": [],
   "source": [
    "#Returns True if all items in the 2nd set are present in the 1st set.\n",
    "x = {\"f\", \"e\", \"d\", \"c\", \"b\", \"a\"}\n",
    "y = {\"a\", \"b\", \"c\"}\n",
    "\n",
    "z = x.issuperset(y)\n",
    "\n",
    "print(z)"
   ]
  },
  {
   "cell_type": "code",
   "execution_count": null,
   "id": "991b4eb3",
   "metadata": {},
   "outputs": [],
   "source": [
    "#Pop method removes a random item from the set\n",
    "fruits = {\"apple\", \"banana\", \"cherry\"}\n",
    "\n",
    "fruits.pop()\n",
    "\n",
    "print(fruits)"
   ]
  },
  {
   "cell_type": "code",
   "execution_count": null,
   "id": "0264867b",
   "metadata": {},
   "outputs": [],
   "source": [
    "#Symmetric Difference removes the common elements from both the sets.\n",
    "x = {\"apple\", \"banana\", \"cherry\"}\n",
    "y = {\"google\", \"microsoft\", \"apple\"}\n",
    "\n",
    "z = x.symmetric_difference(y)\n",
    "\n",
    "print(z)"
   ]
  },
  {
   "cell_type": "code",
   "execution_count": null,
   "id": "4af50204",
   "metadata": {},
   "outputs": [],
   "source": [
    "# Same as symmetric difference but here no return, updates the data in the 1st set only.\n",
    "x = {\"apple\", \"banana\", \"cherry\"}\n",
    "y = {\"google\", \"microsoft\", \"apple\"}\n",
    "\n",
    "x.symmetric_difference_update(y)\n",
    "\n",
    "print(x)"
   ]
  },
  {
   "cell_type": "code",
   "execution_count": null,
   "id": "a9767928",
   "metadata": {},
   "outputs": [],
   "source": [
    "#Union method adds all the elements from set1 and set2, and makes a bigger set.\n",
    "x = {\"apple\", \"banana\", \"cherry\"}\n",
    "y = {\"google\", \"microsoft\", \"apple\"}\n",
    "\n",
    "z = x.union(y)\n",
    "\n",
    "print(z)"
   ]
  },
  {
   "cell_type": "code",
   "execution_count": null,
   "id": "0e2e0938",
   "metadata": {
    "scrolled": true
   },
   "outputs": [],
   "source": [
    "# update method adds the items from set2 inside of set1.\n",
    "x = {\"apple\", \"banana\", \"cherry\"}\n",
    "y = {\"google\", \"microsoft\", \"apple\"}\n",
    "\n",
    "x.update(y)\n",
    "\n",
    "print(x)"
   ]
  },
  {
   "cell_type": "code",
   "execution_count": null,
   "id": "0ca16fad",
   "metadata": {},
   "outputs": [],
   "source": [
    "# this code showcases the difference between casefold() and lower().\\\n",
    "# casefold() has a wider range of character that it can conver to lower.\n",
    "mystr = 'außen'\n",
    "print(mystr.casefold())\n",
    "\n",
    "mystr = 'außen'\n",
    "print(mystr.lower())"
   ]
  },
  {
   "cell_type": "code",
   "execution_count": null,
   "id": "25dfc018",
   "metadata": {
    "scrolled": true
   },
   "outputs": [],
   "source": [
    "# code showcase how append() and extend() are different.\n",
    "list1 = [12,14,122,2]\n",
    "list2 = [1,2,3,4]\n",
    "list3 = ['Yashish']\n",
    "\n",
    "list1.append(list2)\n",
    "list3.extend(list2)\n",
    "\n",
    "print(list1)\n",
    "print(list3)"
   ]
  },
  {
   "cell_type": "code",
   "execution_count": null,
   "id": "f3d24701",
   "metadata": {},
   "outputs": [],
   "source": [
    "# this code showcases how we can pass variable dynamically as argument without using '*'\n",
    "def my_function(arg_list):\n",
    "    for arg in arg_list:\n",
    "        print(arg)\n",
    "\n",
    "arguments = [1, 2, 3, 4, 5]\n",
    "my_function(arguments)"
   ]
  },
  {
   "cell_type": "code",
   "execution_count": null,
   "id": "1f0f451a",
   "metadata": {
    "scrolled": true
   },
   "outputs": [],
   "source": [
    "# this code showcases that sets are unordered as the way the set is initialized is not how the output comes \n",
    "# if we iterate over it.\n",
    "my_set = {3, 1, 2, 4, 5,100000,44}\n",
    "\n",
    "print(\"Set elements:\")\n",
    "for item in my_set:\n",
    "    print(item)\n",
    "    "
   ]
  },
  {
   "cell_type": "markdown",
   "id": "717faf82",
   "metadata": {},
   "source": [
    "# Dictionary\n",
    " - dictionaries are ordered, it means that the items have a defined order, and that order will not change.\n",
    " - Dictionaries are changeable, meaning that we can change, add or remove items after the dictionary has been created.\n",
    " - Dictionaries cannot have two items with the same key\n",
    " - Rules of Dictionary:\n",
    "  - -keys: Every immutable datatypes are allowed(strings,ints,floats,tuple,frozenset,bytes,complex)\n",
    "  - -Values: Anything"
   ]
  },
  {
   "cell_type": "code",
   "execution_count": null,
   "id": "fd36b61e",
   "metadata": {},
   "outputs": [],
   "source": [
    "dict1 = {\n",
    "  \"brand\": \"Ford\",\n",
    "  \"model\": \"Mustang\",\n",
    "  \"year\": 1964\n",
    "}\n",
    "print(dict1[\"brand\"])"
   ]
  },
  {
   "cell_type": "code",
   "execution_count": null,
   "id": "2354c019",
   "metadata": {},
   "outputs": [],
   "source": [
    "#Dictionaries always have 1 unique key \n",
    "dict1 = {\n",
    "  \"brand\": \"Ford\",\n",
    "  \"model\": \"Mustang\",\n",
    "  \"year\": 1964,\n",
    "  \"year\": 2020\n",
    "}\n",
    "print(dict1)"
   ]
  },
  {
   "cell_type": "code",
   "execution_count": null,
   "id": "69861161",
   "metadata": {},
   "outputs": [],
   "source": [
    "# here dict1 has three unique mappings thats why len is 3.\n",
    "len(dict1)"
   ]
  },
  {
   "cell_type": "code",
   "execution_count": null,
   "id": "62c23a9b",
   "metadata": {},
   "outputs": [],
   "source": [
    "#The values in dictionary items can be of any data type\n",
    "dict2 = {\n",
    "  \"brand\": \"Ford\",\n",
    "  \"electric\": False,\n",
    "  \"year\": 1964,\n",
    "  \"colors\": [\"red\", \"white\", \"blue\"]\n",
    "}\n",
    "print(dict2)"
   ]
  },
  {
   "cell_type": "code",
   "execution_count": null,
   "id": "a4c20d21",
   "metadata": {},
   "outputs": [],
   "source": [
    "# Using dict constructor to make a dictionary.\n",
    "dict3 = dict(name = \"John\", age = 36, country = \"Norway\")\n",
    "print(dict3)"
   ]
  },
  {
   "cell_type": "markdown",
   "id": "19f57aee",
   "metadata": {},
   "source": [
    "- List is a collection which is ordered and changeable. Allows duplicate members.\n",
    "- Tuple is a collection which is ordered and unchangeable. Allows duplicate members.\n",
    "- Set is a collection which is unordered, unchangeable*, and unindexed. No duplicate members.\n",
    "- Dictionary is a collection which is ordered** and changeable. No duplicate members."
   ]
  },
  {
   "cell_type": "code",
   "execution_count": null,
   "id": "5935a751",
   "metadata": {},
   "outputs": [],
   "source": [
    "# To add a key to the dictionary\n",
    "d = {\"Name\":\"Ram\" , \"Age\":23}\n",
    "print(d)\n",
    "d.update({\"City\":\"Salem\"}) #using update() method.\n",
    "print(d)\n",
    "d[\"Gender\"]=\"Male\" #adding with key:value.\n",
    "print(d)"
   ]
  },
  {
   "cell_type": "code",
   "execution_count": null,
   "id": "6ac6a579",
   "metadata": {},
   "outputs": [],
   "source": [
    "# To check if the key already exits in the dictionary.\n",
    "dict_1 = {'Name':'Yashish','LastName':'Mohanty'}\n",
    "print('Name' in dict_1)\n",
    "print('Yashish' in dict_1)\n",
    "\n"
   ]
  },
  {
   "cell_type": "code",
   "execution_count": null,
   "id": "b981c90c",
   "metadata": {},
   "outputs": [],
   "source": [
    "for i in dict_1:\n",
    "    print(i)"
   ]
  },
  {
   "cell_type": "code",
   "execution_count": null,
   "id": "6713ace9",
   "metadata": {},
   "outputs": [],
   "source": [
    "for i in dict_1.items():\n",
    "    print(i)"
   ]
  },
  {
   "cell_type": "code",
   "execution_count": null,
   "id": "009ee85c",
   "metadata": {},
   "outputs": [],
   "source": [
    "for i,j in dict_1.items():\n",
    "    print(i,':' ,j)"
   ]
  },
  {
   "cell_type": "code",
   "execution_count": null,
   "id": "c2c70491",
   "metadata": {},
   "outputs": [],
   "source": [
    "#Generating a dictionary using for loop with internal logic (x:x*x)\n",
    "l=int(input(\"Enter the Limit : \"))\n",
    "d = dict()\n",
    " \n",
    "for x in range(l+1):\n",
    "    d[x]=x*x\n",
    "print(d) "
   ]
  },
  {
   "cell_type": "code",
   "execution_count": null,
   "id": "c199882d",
   "metadata": {},
   "outputs": [],
   "source": [
    "thisdict = {\n",
    "  \"brand\": \"Ford\",\n",
    "  \"model\": \"Mustang\",\n",
    "  \"year\": 1964,\n",
    "    \"age\": None\n",
    "}\n",
    "mydict = thisdict.copy()\n",
    "print(mydict)"
   ]
  },
  {
   "cell_type": "code",
   "execution_count": null,
   "id": "fd7dc5bc",
   "metadata": {},
   "outputs": [],
   "source": [
    "print(d[1])"
   ]
  },
  {
   "cell_type": "code",
   "execution_count": null,
   "id": "43809ac7",
   "metadata": {},
   "outputs": [],
   "source": [
    "print(list(d)[5])"
   ]
  },
  {
   "cell_type": "code",
   "execution_count": null,
   "id": "cb05a7b5",
   "metadata": {},
   "outputs": [],
   "source": [
    "print(list(d))"
   ]
  },
  {
   "cell_type": "code",
   "execution_count": null,
   "id": "026d56ca",
   "metadata": {},
   "outputs": [],
   "source": [
    "#Droping empty items from dictionary\n",
    "droped_item = {key:value for (key, value) in thisdict.items() if value is not None}\n",
    "print(droped_item)"
   ]
  },
  {
   "cell_type": "code",
   "execution_count": null,
   "id": "cb5f6090",
   "metadata": {},
   "outputs": [],
   "source": [
    "# same code as above.\n",
    "for (i,j) in thisdict.items():\n",
    "    if item is not None:\n",
    "        a[i]=j\n",
    "print(a)\n"
   ]
  },
  {
   "cell_type": "code",
   "execution_count": null,
   "id": "c0dbd6a2",
   "metadata": {},
   "outputs": [],
   "source": [
    "# Bytes, Complex\n",
    "# how to represent them."
   ]
  },
  {
   "cell_type": "code",
   "execution_count": null,
   "id": "d5378b79",
   "metadata": {},
   "outputs": [],
   "source": [
    "import re\n",
    "val = re.search(r'Yashish','YashishYashish is a good boy!')\n",
    "print(val)\n",
    "print(val.group())\n",
    "print('Start index',val.start())\n",
    "print('end index', val.end())"
   ]
  },
  {
   "cell_type": "code",
   "execution_count": null,
   "id": "6bec1871",
   "metadata": {},
   "outputs": [],
   "source": [
    "dictionary = {\"cat\": \"chat\", \"dog\": \"chien\", \"horse\": \"cheval,hi\"}\n",
    "print(dictionary.keys())\n",
    "print(dictionary.values())\n",
    "print(dictionary.items())\n",
    "for key in dictionary.keys():\n",
    "    print(key, \"->\", dictionary[key])\n",
    "    \n",
    "\n"
   ]
  },
  {
   "cell_type": "code",
   "execution_count": null,
   "id": "395c791b",
   "metadata": {},
   "outputs": [],
   "source": [
    "# Example 1\n",
    "tuple_1 = (1, 2, 3)\n",
    "for elem in tuple_1:\n",
    "    print(elem)\n",
    " \n",
    "# Example 2\n",
    "tuple_2 = (1, 2, 3, 4)\n",
    "print(5 in tuple_2)\n",
    "print(5 not in tuple_2)\n",
    " \n",
    "# Example 3\n",
    "tuple_2 = (1, 2, 3, 4)\n",
    "print(len(tuple_2))\n",
    "print(5 not in tuple_2)\n",
    "# Example 4\n",
    "tuple_4 = tuple_1 + tuple_2\n",
    "tuple_5 = tuple_2 * 2\n",
    " \n",
    "print(tuple_4)\n",
    "print(tuple_5)"
   ]
  },
  {
   "cell_type": "code",
   "execution_count": null,
   "id": "fc910a3f",
   "metadata": {},
   "outputs": [],
   "source": [
    "set1 = {1,2,3}\n",
    "x = set1.copy()\n",
    "print(id(x))\n",
    "print(id(set1))"
   ]
  },
  {
   "cell_type": "code",
   "execution_count": null,
   "id": "019ec23e",
   "metadata": {},
   "outputs": [],
   "source": [
    "x = {1,2,3}\n",
    "y = {2,4}\n",
    "z = x  - y\n",
    "z1 = y - x\n",
    "printtype((z)\n",
    "print(z1)"
   ]
  },
  {
   "cell_type": "markdown",
   "id": "d21406da",
   "metadata": {},
   "source": [
    "# Conditional Statements"
   ]
  },
  {
   "cell_type": "code",
   "execution_count": null,
   "id": "d8976ab5",
   "metadata": {},
   "outputs": [],
   "source": [
    "# if....else\n",
    "# elif\n"
   ]
  },
  {
   "cell_type": "code",
   "execution_count": null,
   "id": "f5d7e150",
   "metadata": {},
   "outputs": [],
   "source": [
    "#if condition:\n",
    "#    logic\n",
    "#else:\n",
    "#    logic"
   ]
  },
  {
   "cell_type": "code",
   "execution_count": null,
   "id": "7f793894",
   "metadata": {},
   "outputs": [],
   "source": [
    "a = 10\n",
    "b = 20\n"
   ]
  },
  {
   "cell_type": "code",
   "execution_count": null,
   "id": "a13ef4b8",
   "metadata": {},
   "outputs": [],
   "source": [
    "if a > b :\n",
    "    print('A is greater than B')\n",
    "else:\n",
    "    print('B is greater than A')"
   ]
  },
  {
   "cell_type": "code",
   "execution_count": null,
   "id": "b02e0301",
   "metadata": {},
   "outputs": [],
   "source": [
    "## Ternary statements\n",
    "print('A equals to B' if a == b else 'A is greater than B' if a>b else 'B greater than A')"
   ]
  },
  {
   "cell_type": "code",
   "execution_count": null,
   "id": "23708eb9",
   "metadata": {},
   "outputs": [],
   "source": [
    "age = int(input())\n",
    "salary = '5k' if age < 23 else None\n",
    "print(salary)"
   ]
  },
  {
   "cell_type": "code",
   "execution_count": null,
   "id": "ca28ac2c",
   "metadata": {},
   "outputs": [],
   "source": [
    "age = int(input())\n",
    "print('10k' if age in range(23,30)else None)\n"
   ]
  },
  {
   "cell_type": "code",
   "execution_count": null,
   "id": "49e93fc4",
   "metadata": {},
   "outputs": [],
   "source": [
    "age = int(input('Enter age in years '))\n",
    "salary = '5k' if age < 23 else '10k' if age in range(23,31) else '20k' if age in range(30,36) else '30k' if age > 35 else None\n",
    "print('Your salaray should be ->',salary)"
   ]
  },
  {
   "cell_type": "markdown",
   "id": "79509870",
   "metadata": {},
   "source": [
    "# Loops\n",
    " - for loop\n",
    " - while loop"
   ]
  },
  {
   "cell_type": "code",
   "execution_count": null,
   "id": "c2fd2dfe",
   "metadata": {},
   "outputs": [],
   "source": [
    "l1 = [1,2,3,4,5]\n",
    "s1 = {1,2,3,4,5}\n",
    "for i in range(len(l1)):\n",
    "    print(i)"
   ]
  },
  {
   "cell_type": "code",
   "execution_count": null,
   "id": "86956cc4",
   "metadata": {},
   "outputs": [],
   "source": [
    "for i in range(len(s1)):\n",
    "    print(i)"
   ]
  },
  {
   "cell_type": "code",
   "execution_count": null,
   "id": "fdd5094d",
   "metadata": {},
   "outputs": [],
   "source": [
    "# print first 50 natural numbers starting from 1 to 50:\n",
    "for i in range(1,51):\n",
    "    print(i,end = ' ')"
   ]
  },
  {
   "cell_type": "code",
   "execution_count": null,
   "id": "4024e20f",
   "metadata": {},
   "outputs": [],
   "source": [
    "for i in l1:\n",
    "    print(i)"
   ]
  },
  {
   "cell_type": "code",
   "execution_count": null,
   "id": "3cb2cbfe",
   "metadata": {},
   "outputs": [],
   "source": [
    "#while condition is true :\n",
    "#    logic\n",
    "#else:\n",
    "#    logic"
   ]
  },
  {
   "cell_type": "code",
   "execution_count": null,
   "id": "005bd975",
   "metadata": {},
   "outputs": [],
   "source": [
    "i = 10\n",
    "while (i<20):\n",
    "    print(i)\n",
    "    i +=1\n",
    "else:\n",
    "    print('Out of Loop')"
   ]
  },
  {
   "cell_type": "code",
   "execution_count": null,
   "id": "4f18cc52",
   "metadata": {},
   "outputs": [],
   "source": [
    "for i in range(0,50):\n",
    "    if i%2 == 0:\n",
    "        break\n",
    "    print(i)\n",
    "print('X')"
   ]
  },
  {
   "cell_type": "code",
   "execution_count": null,
   "id": "62c467de",
   "metadata": {},
   "outputs": [],
   "source": [
    "l1 = [1,2,3,4,5]\n",
    "print(list(enumerate(l1)))"
   ]
  },
  {
   "cell_type": "markdown",
   "id": "e782d5d6",
   "metadata": {},
   "source": [
    "# Assignment 7"
   ]
  },
  {
   "cell_type": "code",
   "execution_count": null,
   "id": "bcfd978e",
   "metadata": {},
   "outputs": [],
   "source": [
    "#1 - Print all numbers from -10 to 10  using :\n",
    "\n",
    "#   a) while loop\n",
    "#   b) For loop\n",
    "\n",
    "for i in range(-10,11):\n",
    "  print(i, end=' ')\n",
    "\n",
    "\n",
    "i = -10\n",
    "while i < 11:\n",
    "  print(i, end =' ')\n",
    "  i +=1"
   ]
  },
  {
   "cell_type": "code",
   "execution_count": null,
   "id": "726944d5",
   "metadata": {},
   "outputs": [],
   "source": [
    "#2 - Find sum of all prime numbers from 1 - 100\n",
    "def isPrime(n):\n",
    "    if n <= 1:\n",
    "        return False\n",
    "    for i in range(2, n):\n",
    "        if n % i == 0:\n",
    "            return False\n",
    "    return True\n",
    "\n",
    "sum = 0\n",
    "for i in range(1,101):\n",
    "    if isPrime(i) == True:\n",
    "        print(i,end=\" \")\n",
    "        sum = sum + i\n",
    "print()\n",
    "print(sum)\n"
   ]
  },
  {
   "cell_type": "code",
   "execution_count": null,
   "id": "129e7f57",
   "metadata": {},
   "outputs": [],
   "source": [
    "#3 - Print the following pattern :\n",
    "\n",
    "n = int(input('Enter the size of n for pattern: '))\n",
    "for i in range(n,0,-1):\n",
    "  for j in range(i,0,-1):\n",
    "    print(j,end=' ')\n",
    "  print()"
   ]
  },
  {
   "cell_type": "code",
   "execution_count": null,
   "id": "3b1b9e97",
   "metadata": {},
   "outputs": [],
   "source": [
    "#4 - Find the factorial of a given number (take input from user)\n",
    "num = int(input(\"Enter a number: \"))\n",
    "\n",
    "if num < 0:\n",
    "    print(\"Factorial cannot be found for negetive numbers.\")\n",
    "else:\n",
    "    fact = 1\n",
    "    for i in range(1, num + 1):\n",
    "        fact *= i\n",
    "\n",
    "    print(f\"The factorial of {num} is {fact}\")"
   ]
  },
  {
   "cell_type": "code",
   "execution_count": null,
   "id": "495aa251",
   "metadata": {},
   "outputs": [],
   "source": [
    "#5 - Reverse a given integer number (input should be atleaast 2 digits or more else print invalid input)\n",
    "num = int(input('Enter a number: '))\n",
    "if len(str(num)) < 2:\n",
    "  print('Enter a number that is atleast 2 digits long')\n",
    "else:\n",
    "  rev = str(num)[::-1]\n",
    "  print('Reverse of the inputed number is: ',int(rev))\n",
    "\n",
    "\n"
   ]
  },
  {
   "cell_type": "code",
   "execution_count": null,
   "id": "ebffc704",
   "metadata": {},
   "outputs": [],
   "source": [
    "num = int(input(\"Enter an integer: \"))\n",
    "rev_num = 0\n",
    "rem = 0\n",
    "\n",
    "while num > 0:\n",
    "    rem = num % 10\n",
    "    rev_num = rev_num * 10 + rem\n",
    "    num = num // 10\n",
    "\n",
    "print('The reversed number is:',rev_num)"
   ]
  },
  {
   "cell_type": "code",
   "execution_count": null,
   "id": "e1e47b35",
   "metadata": {},
   "outputs": [],
   "source": [
    "\n",
    "#6 - Write a program to print the following start pattern using the for loop\n",
    "num = int(input('Enter the size: '))\n",
    "\n",
    "for i in range(1, num + 1):\n",
    "    for j in range(1, i + 1):\n",
    "        print(\"*\", end=\" \")\n",
    "    print()\n",
    "\n",
    "for i in range(num - 1, 0, -1):\n",
    "    for j in range(1, i + 1):\n",
    "        print(\"*\", end=\" \")\n",
    "    print()\n",
    "\n",
    "\n"
   ]
  },
  {
   "cell_type": "code",
   "execution_count": null,
   "id": "5e803733",
   "metadata": {},
   "outputs": [],
   "source": [
    "#7\n",
    "list1 = [1, 2, 3, 4, 5, 6, 7, 8, 9, 0, 13, 22, 40, 22, 55, 45, 32, 234, 545, 343, 2423, 4]\n",
    "\n",
    "for num in list1:\n",
    "    digit_sum = 0\n",
    "\n",
    "    for char in str(num):\n",
    "            digit_sum += int(char)\n",
    "\n",
    "    if digit_sum == 4:\n",
    "        print(num,end = ' ')"
   ]
  },
  {
   "cell_type": "code",
   "execution_count": null,
   "id": "cdce3f96",
   "metadata": {},
   "outputs": [],
   "source": [
    "sum = 0\n",
    "for i in range(2,101):\n",
    "    for j in range(2,i):\n",
    "        if i%j == 0:\n",
    "            break\n",
    "    else:\n",
    "        print(i,end = ' ')\n",
    "        sum += i\n",
    "print()\n",
    "print(sum)"
   ]
  },
  {
   "cell_type": "markdown",
   "id": "537c4be2",
   "metadata": {},
   "source": [
    "# Functions"
   ]
  },
  {
   "cell_type": "code",
   "execution_count": null,
   "id": "3aedb540",
   "metadata": {},
   "outputs": [],
   "source": [
    "def funcName():\n",
    "    return result"
   ]
  },
  {
   "cell_type": "code",
   "execution_count": null,
   "id": "84bda768",
   "metadata": {},
   "outputs": [],
   "source": [
    "def functionName():\n",
    "    pass"
   ]
  },
  {
   "cell_type": "code",
   "execution_count": null,
   "id": "c01ea8da",
   "metadata": {},
   "outputs": [],
   "source": [
    "#User Define Function\n",
    "#Non Parameterized Function\n",
    "\n",
    "def sum1():\n",
    "    a = 5\n",
    "    b = 6\n",
    "    return a + b\n"
   ]
  },
  {
   "cell_type": "code",
   "execution_count": null,
   "id": "5f5b26e9",
   "metadata": {},
   "outputs": [],
   "source": [
    "# Calling a function\n",
    "sum1()"
   ]
  },
  {
   "cell_type": "code",
   "execution_count": null,
   "id": "6a68eb13",
   "metadata": {},
   "outputs": [],
   "source": [
    "#Parameterized Function\n",
    "def sum2(a,b):\n",
    "    return a+b"
   ]
  },
  {
   "cell_type": "code",
   "execution_count": null,
   "id": "fa7a0c54",
   "metadata": {},
   "outputs": [],
   "source": [
    "sum2(4,11)"
   ]
  },
  {
   "cell_type": "code",
   "execution_count": null,
   "id": "71a04860",
   "metadata": {},
   "outputs": [],
   "source": [
    "def castSum(a:int,b:int):\n",
    "    return a*(a+b)"
   ]
  },
  {
   "cell_type": "code",
   "execution_count": null,
   "id": "da30f56f",
   "metadata": {},
   "outputs": [],
   "source": [
    "castSum(2,3)"
   ]
  },
  {
   "cell_type": "code",
   "execution_count": null,
   "id": "f1506c06",
   "metadata": {},
   "outputs": [],
   "source": [
    "def printArgs(args):\n",
    "    return sum(args)"
   ]
  },
  {
   "cell_type": "code",
   "execution_count": null,
   "id": "dae425d7",
   "metadata": {},
   "outputs": [],
   "source": [
    "printArgs(2)"
   ]
  },
  {
   "cell_type": "code",
   "execution_count": null,
   "id": "41cc6a23",
   "metadata": {},
   "outputs": [],
   "source": [
    "def printArgs1(*args):\n",
    "    sum = 0\n",
    "    for i in args:\n",
    "        sum +=int(i)\n",
    "    return sum"
   ]
  },
  {
   "cell_type": "code",
   "execution_count": null,
   "id": "369f6d93",
   "metadata": {},
   "outputs": [],
   "source": [
    "printArgs1(1,2,3,4,10)"
   ]
  },
  {
   "cell_type": "code",
   "execution_count": null,
   "id": "59223f06",
   "metadata": {},
   "outputs": [],
   "source": [
    "def dictType(kwargs):\n",
    "    return kwargs"
   ]
  },
  {
   "cell_type": "code",
   "execution_count": null,
   "id": "17e1ef00",
   "metadata": {},
   "outputs": [],
   "source": [
    "dictType({'Hello':'Yashish'})"
   ]
  },
  {
   "cell_type": "code",
   "execution_count": null,
   "id": "5db74021",
   "metadata": {},
   "outputs": [],
   "source": [
    "def tupleType(*args):\n",
    "    return args"
   ]
  },
  {
   "cell_type": "code",
   "execution_count": null,
   "id": "a7e9d853",
   "metadata": {},
   "outputs": [],
   "source": [
    "tupleType('Yashish','Mohanty','Hello')"
   ]
  },
  {
   "cell_type": "code",
   "execution_count": null,
   "id": "23d35a48",
   "metadata": {},
   "outputs": [],
   "source": [
    "def dictType(**kwargs):\n",
    "    return kwargs\n",
    "    "
   ]
  },
  {
   "cell_type": "code",
   "execution_count": null,
   "id": "ef3f4db3",
   "metadata": {},
   "outputs": [],
   "source": [
    "dictType(a='Yashish',b='Mohanty',c='Hello')"
   ]
  },
  {
   "cell_type": "code",
   "execution_count": null,
   "id": "93e393d1",
   "metadata": {},
   "outputs": [],
   "source": [
    "# Store the current largest number here.\n",
    "largest_number = -999999999\n",
    " \n",
    "# Input the first value.\n",
    "number = int(input(\"Enter a number or type -1 to stop: \"))\n",
    " \n",
    "# If the number is not equal to -1, continue.\n",
    "while number != -1:\n",
    "    # Is number larger than largest_number?\n",
    "    if number > largest_number:\n",
    "        # Yes, update largest_number.\n",
    "        largest_number = number\n",
    "    # Input the next number.\n",
    "    number = int(input(\"Enter a number or type -1 to stop: \"))\n",
    " \n",
    "# Print the largest number.\n",
    "print(\"The largest number is:\", largest_number)"
   ]
  },
  {
   "cell_type": "code",
   "execution_count": null,
   "id": "12b750e9",
   "metadata": {},
   "outputs": [],
   "source": [
    "def bubble_sort(arr):\n",
    "    n = len(arr)\n",
    "    \n",
    "    # Traverse through all elements in the list\n",
    "    for i in range(n):\n",
    "        # Flag to indicate whether any swapping is done in this pass\n",
    "        swapped = False\n",
    "        \n",
    "        # Last i elements are already in place, so no need to check them\n",
    "        for j in range(0, n-i-1):\n",
    "            # Swap if the element found is greater than the next element\n",
    "            if arr[j] > arr[j+1]:\n",
    "                arr[j], arr[j+1] = arr[j+1], arr[j]  # Swap the elements\n",
    "                swapped = True\n",
    "        \n",
    "        # If no two elements were swapped in this pass, the list is already sorted\n",
    "        if not swapped:\n",
    "            break\n",
    "\n",
    "# Example usage:\n",
    "if __name__ == \"__main__\":\n",
    "    # Input list to be sorted\n",
    "    arr = [64, 34, 25, 12, 22, 11, 90]\n",
    "    \n",
    "    print(\"Original list:\", arr)\n",
    "    \n",
    "    # Call the bubble_sort function to sort the list\n",
    "    bubble_sort(arr)\n",
    "    \n",
    "    print(\"Sorted list:\", arr)"
   ]
  },
  {
   "cell_type": "code",
   "execution_count": null,
   "id": "7f39078f",
   "metadata": {},
   "outputs": [],
   "source": [
    "var = 1\n",
    "while var < 10:\n",
    "    print(\"#\")\n",
    "    var = var << 1"
   ]
  },
  {
   "cell_type": "code",
   "execution_count": null,
   "id": "324f37ff",
   "metadata": {},
   "outputs": [],
   "source": [
    "a = 1\n",
    "b = 0\n",
    "c = a & b\n",
    "d = a | b\n",
    "e = a ^ b\n",
    " \n",
    "print(c + d + e)"
   ]
  },
  {
   "cell_type": "code",
   "execution_count": null,
   "id": "a83975ff",
   "metadata": {},
   "outputs": [],
   "source": [
    "nums = [1, 2, 3]\n",
    "vals = nums[-1:-2]\n",
    "print(nums)\n",
    "print(vals)"
   ]
  },
  {
   "cell_type": "code",
   "execution_count": null,
   "id": "4e9b3933",
   "metadata": {},
   "outputs": [],
   "source": [
    "my_list_1 = [1, 2, 3]\n",
    "my_list_2 = []\n",
    "for v in my_list_1:\n",
    "    my_list_2.insert(0, v)\n",
    "print(my_list_2)\n",
    " "
   ]
  },
  {
   "cell_type": "code",
   "execution_count": null,
   "id": "d6e33e7e",
   "metadata": {},
   "outputs": [],
   "source": [
    "t = [[3-i for i in range (3)] for j in range (3)]\n",
    "s = 0\n",
    "for i in range(3):\n",
    "    s += t[i][i]\n",
    "print(s)\n",
    " "
   ]
  },
  {
   "cell_type": "code",
   "execution_count": null,
   "id": "0d2bd720",
   "metadata": {},
   "outputs": [],
   "source": [
    "my_list = [1, 2, 3, 4]\n",
    "print(my_list[-3:-1])"
   ]
  },
  {
   "cell_type": "code",
   "execution_count": null,
   "id": "1a993039",
   "metadata": {},
   "outputs": [],
   "source": [
    "var = 0\n",
    "while var < 6:\n",
    "    var += 1\n",
    "    if var % 2 == 0:\n",
    "        continue\n",
    "    print(\"#\")"
   ]
  },
  {
   "cell_type": "code",
   "execution_count": null,
   "id": "118f91be",
   "metadata": {},
   "outputs": [],
   "source": [
    "for i in range(1):\n",
    "    print(\"#\")\n",
    "else:\n",
    "    print(\"#\")"
   ]
  },
  {
   "cell_type": "code",
   "execution_count": null,
   "id": "0e998c26",
   "metadata": {},
   "outputs": [],
   "source": [
    "def introduction(first_name, last_name):\n",
    "    print(\"Hello, my name is\", first_name, last_name)\n",
    " \n",
    "introduction(\"Skywalker\", \"Luke\")\n",
    "introduction(\"Quick\", \"Jesse\")\n",
    "introduction(\"Kent\", \"Clark\")"
   ]
  },
  {
   "cell_type": "code",
   "execution_count": null,
   "id": "6d6b3454",
   "metadata": {},
   "outputs": [],
   "source": [
    "def func1(*args):\n",
    "    for i in args:\n",
    "        return i\n",
    "func1(1,2,3,4,5)"
   ]
  },
  {
   "cell_type": "code",
   "execution_count": null,
   "id": "8fef29f2",
   "metadata": {},
   "outputs": [],
   "source": [
    "# in the above code there is an issue, that only one value is being returned.\n",
    "# to solve this we will use:\n",
    "# Iterators and Yield\n",
    "\n",
    "def func(*args):\n",
    "    for i in args:\n",
    "        yield(i)\n",
    "print((func(1,2,3,4,5)))"
   ]
  },
  {
   "cell_type": "code",
   "execution_count": null,
   "id": "ffd616c7",
   "metadata": {},
   "outputs": [],
   "source": [
    "for i in func(1,2,3,4,5):\n",
    "    print(i)"
   ]
  },
  {
   "cell_type": "code",
   "execution_count": null,
   "id": "940aea6d",
   "metadata": {},
   "outputs": [],
   "source": [
    "def func1(*args):\n",
    "    yield(i)\n",
    "print(func1(1,2,3,4,5))"
   ]
  },
  {
   "cell_type": "code",
   "execution_count": null,
   "id": "8e0195c8",
   "metadata": {},
   "outputs": [],
   "source": [
    "list(func1(1,2,3,4,5))"
   ]
  },
  {
   "cell_type": "markdown",
   "id": "7cb2d39e",
   "metadata": {},
   "source": [
    "# Lambda Functions"
   ]
  },
  {
   "cell_type": "code",
   "execution_count": null,
   "id": "c6732240",
   "metadata": {},
   "outputs": [],
   "source": [
    "x = lambda a : a + 10\n",
    "print(x(120))"
   ]
  },
  {
   "cell_type": "code",
   "execution_count": null,
   "id": "8f87fd4c",
   "metadata": {},
   "outputs": [],
   "source": [
    "output = lambda firstname,lastname : firstname+' '+lastname\n"
   ]
  },
  {
   "cell_type": "code",
   "execution_count": null,
   "id": "3442ef45",
   "metadata": {},
   "outputs": [],
   "source": [
    "output('Yashish','Mohanty')"
   ]
  },
  {
   "cell_type": "code",
   "execution_count": null,
   "id": "4e048075",
   "metadata": {},
   "outputs": [],
   "source": [
    "x = lambda x : x**2"
   ]
  },
  {
   "cell_type": "code",
   "execution_count": null,
   "id": "eb27546a",
   "metadata": {},
   "outputs": [],
   "source": [
    "x(10)"
   ]
  },
  {
   "cell_type": "code",
   "execution_count": null,
   "id": "a21b76d6",
   "metadata": {},
   "outputs": [],
   "source": [
    "#define a lambda function which can take n numbers of \n",
    "#arguments and print all the arguments one by one\n",
    "x = lambda *args : [print(i) for i in args]\n"
   ]
  },
  {
   "cell_type": "code",
   "execution_count": null,
   "id": "b44ea7a2",
   "metadata": {},
   "outputs": [],
   "source": [
    "result = list(x(1,2))"
   ]
  },
  {
   "cell_type": "markdown",
   "id": "eacaf7f0",
   "metadata": {},
   "source": [
    "# Map function"
   ]
  },
  {
   "cell_type": "code",
   "execution_count": null,
   "id": "45619775",
   "metadata": {},
   "outputs": [],
   "source": [
    "#Syntax\n",
    "#map(function,iterable)"
   ]
  },
  {
   "cell_type": "code",
   "execution_count": 10,
   "id": "efa6f5d0",
   "metadata": {},
   "outputs": [],
   "source": [
    "def myfunc(a,b):\n",
    "    return a+b\n",
    "x = map(myfunc,('apple','banana'),('fruit','cherry'))"
   ]
  },
  {
   "cell_type": "code",
   "execution_count": 11,
   "id": "48c1a5c6",
   "metadata": {},
   "outputs": [
    {
     "name": "stdout",
     "output_type": "stream",
     "text": [
      "applefruit\n",
      "bananacherry\n"
     ]
    }
   ],
   "source": [
    "for i in x:\n",
    "    print(i)"
   ]
  },
  {
   "cell_type": "code",
   "execution_count": 12,
   "id": "e8d19f26",
   "metadata": {},
   "outputs": [
    {
     "name": "stdout",
     "output_type": "stream",
     "text": [
      "3\n",
      "45\n"
     ]
    }
   ],
   "source": [
    "list2 = iter([3,45,12,123,10])\n",
    "print(next(list2))\n",
    "print(next(list2))"
   ]
  },
  {
   "cell_type": "code",
   "execution_count": null,
   "id": "21b9a3ba",
   "metadata": {},
   "outputs": [],
   "source": [
    "def sq_numbers(n):\n",
    "    for i in range(1, n+1):\n",
    "        yield i*i\n",
    "  \n",
    "  \n",
    "a = sq_numbers(3)\n",
    "  \n",
    "print(\"The square of numbers 1,2,3 are : \")\n",
    "print(next(a))\n",
    "print(next(a))\n",
    "print(next(a))"
   ]
  },
  {
   "cell_type": "markdown",
   "id": "a8e7ee06",
   "metadata": {},
   "source": [
    "# Assignment 8"
   ]
  },
  {
   "cell_type": "code",
   "execution_count": null,
   "id": "b745e19c",
   "metadata": {},
   "outputs": [],
   "source": [
    "#1-Write a Python program to print all the even numbers between 1-20 using \n",
    "# Lambda.\n",
    "def isEven(num):\n",
    "    if num%2 == 0:\n",
    "        return True\n",
    "    else:\n",
    "        return False\n",
    "for i in range(1,21):\n",
    "    if isEven(i) == True:\n",
    "        print(i,end=' ')\n"
   ]
  },
  {
   "cell_type": "code",
   "execution_count": null,
   "id": "1afebba6",
   "metadata": {},
   "outputs": [],
   "source": [
    "x = lambda a : [i for i in range(1,21) if i%2 == 0]\n",
    "x(i)"
   ]
  },
  {
   "cell_type": "code",
   "execution_count": null,
   "id": "eb791e2a",
   "metadata": {
    "scrolled": true
   },
   "outputs": [],
   "source": [
    "#2 - Write a Python program to square and cube every number in a given \n",
    "# list of integers and print both the lists using Lambda.\n",
    "list1 = [1,2,3,4,5]\n",
    "squares = []\n",
    "cube = []\n",
    "\n",
    "def sqr(num):\n",
    "    return num**2\n",
    "def cub(num):\n",
    "    return num**3\n",
    "\n",
    "for i in list1:\n",
    "    squares.append(sqr(i))\n",
    "    cube.append(cub(i))\n",
    "print(squares)\n",
    "print(cube)"
   ]
  },
  {
   "cell_type": "code",
   "execution_count": null,
   "id": "1f48d139",
   "metadata": {},
   "outputs": [],
   "source": [
    "square = lambda x: x ** 2\n",
    "cube = lambda x: x ** 3\n",
    "\n",
    "square_list = list(map(square, list1))\n",
    "cube_list = list(map(cube, list1))\n",
    "\n",
    "print(square_list)\n",
    "print(cube_list)"
   ]
  },
  {
   "cell_type": "code",
   "execution_count": null,
   "id": "ecc3fd4e",
   "metadata": {},
   "outputs": [],
   "source": [
    "# 3-Write a Python program to sort a list of dictionaries using Lambda.\n",
    "#Original list of dictionaries :\n",
    "# [{'make': 'Nokia', 'model': 216, 'color': 'Black'}, {'make': 'Mi Max', 'model': '2', 'color': 'Gold'}, {'make': 'Samsung', 'model': 7, 'color': 'Blue'}]\n",
    "# Sorting the List of dictionaries :\n",
    "# [{'make': 'Nokia', 'model': 216, 'color': 'Black'}, {'make': 'Samsung', 'model': 7, 'color': 'Blue'}, {'make': 'Mi Max', 'model': '2', 'color': 'Gold'}]\n",
    "\n",
    "list2 = [{'make': 'Nokia', 'model': 216, 'color': 'Black'}, \n",
    "         {'make': 'Mi Max', 'model': 2, 'color': 'Gold'}, \n",
    "         {'make': 'Samsung', 'model': 7, 'color': 'Blue'}]\n",
    "\n",
    "sorted_list2 = sorted(list2, key = lambda x:x['model'], reverse = True)\n",
    "print(sorted_list2)\n",
    "\n"
   ]
  },
  {
   "cell_type": "code",
   "execution_count": null,
   "id": "718d21e0",
   "metadata": {},
   "outputs": [],
   "source": [
    "#5 Write a Python program to check whether a given string is a number or not and return all the strings those are numbers using Lambda.\n",
    "# Sample Input:\n",
    "# ['Subha','20','Yashish20','4555','0']\n",
    "# Sample Output:\n",
    "# ['20','4555','0']\n"
   ]
  },
  {
   "cell_type": "code",
   "execution_count": null,
   "id": "527707a4",
   "metadata": {},
   "outputs": [],
   "source": [
    "list3 = ['Subha', '20', 'Yashish20', '4555', '0']\n",
    "\n",
    "num_list = list(filter(lambda s: s.isdigit(), list3))\n",
    "\n",
    "print(num_list)"
   ]
  },
  {
   "cell_type": "markdown",
   "id": "b3420aa5",
   "metadata": {},
   "source": [
    "# Extracting date time using Lambda function"
   ]
  },
  {
   "cell_type": "code",
   "execution_count": null,
   "id": "a9902715",
   "metadata": {},
   "outputs": [],
   "source": [
    "\n",
    "str1 = '2020-01-15 09:03:32'\n",
    "y = lambda x : x[:4]\n",
    "m = lambda y : y[5:7]\n",
    "d = lambda z :z[8:10]\n",
    "print(y(str1))\n",
    "print(m(str1))\n",
    "print(d(str1))\n"
   ]
  },
  {
   "cell_type": "code",
   "execution_count": null,
   "id": "dd441a83",
   "metadata": {
    "tags": []
   },
   "outputs": [],
   "source": [
    "dt1 = lambda dt: [i for i in dt.split('-')]\n",
    "\n",
    "\n",
    "year, month, day = dt1(str1)\n",
    "print(year)\n",
    "print(month)\n",
    "print(day)"
   ]
  },
  {
   "cell_type": "code",
   "execution_count": null,
   "id": "b9150394",
   "metadata": {
    "tags": []
   },
   "outputs": [],
   "source": [
    "x = lambda x : x.replace('-','\\n')\n",
    "print(x(str1))"
   ]
  },
  {
   "cell_type": "markdown",
   "id": "a78917fb",
   "metadata": {},
   "source": [
    "# Decorators"
   ]
  },
  {
   "cell_type": "code",
   "execution_count": null,
   "id": "2d5a6758",
   "metadata": {},
   "outputs": [],
   "source": [
    "# Decorators are special functions which takes a \n",
    "# function as an input, decorate/modify that input function \n",
    "# and return another new decorative function as an output.\n",
    "\n",
    "# INPUT                   DecFunction                  OUTPUT\n",
    "\n",
    "# func1() -----------> DecoFunc(func1()) ----------> func1_new()\n",
    "\n",
    "# original                                            Modified \n",
    "# function                                            function"
   ]
  },
  {
   "cell_type": "code",
   "execution_count": null,
   "id": "51bca60d",
   "metadata": {},
   "outputs": [],
   "source": [
    "# syntax\n",
    "#dec(func()):\n",
    "    \n",
    "#    def mfunc():\n",
    "#        print(1)\n",
    "#        print(2)\n",
    "#        func()\n",
    "    \n",
    "#    return mfunc()"
   ]
  },
  {
   "cell_type": "code",
   "execution_count": null,
   "id": "051e9ada",
   "metadata": {},
   "outputs": [],
   "source": [
    "# @dec()\n",
    "# func()"
   ]
  },
  {
   "cell_type": "code",
   "execution_count": null,
   "id": "065b7e6c",
   "metadata": {},
   "outputs": [],
   "source": []
  },
  {
   "cell_type": "code",
   "execution_count": 14,
   "id": "9465e0c8",
   "metadata": {},
   "outputs": [
    {
     "name": "stdout",
     "output_type": "stream",
     "text": [
      "I am the 2nd decorater\n",
      "This is the base function\n",
      "This is the 1st decorater function\n"
     ]
    },
    {
     "ename": "TypeError",
     "evalue": "'NoneType' object is not callable",
     "output_type": "error",
     "traceback": [
      "\u001b[1;31m---------------------------------------------------------------------------\u001b[0m",
      "\u001b[1;31mTypeError\u001b[0m                                 Traceback (most recent call last)",
      "Cell \u001b[1;32mIn[14], line 19\u001b[0m\n\u001b[0;32m     16\u001b[0m         \u001b[38;5;28mprint\u001b[39m(\u001b[38;5;124m'\u001b[39m\u001b[38;5;124mDecorated done!\u001b[39m\u001b[38;5;124m'\u001b[39m)\n\u001b[0;32m     17\u001b[0m     \u001b[38;5;28;01mreturn\u001b[39;00m mfunc()\n\u001b[1;32m---> 19\u001b[0m \u001b[38;5;129;43m@dec\u001b[39;49m\n\u001b[0;32m     20\u001b[0m \u001b[38;5;129;43m@dec2\u001b[39;49m\n\u001b[0;32m     21\u001b[0m \u001b[38;5;28;43;01mdef\u001b[39;49;00m\u001b[43m \u001b[49m\u001b[38;5;21;43mfunc\u001b[39;49m\u001b[43m(\u001b[49m\u001b[43m)\u001b[49m\u001b[43m:\u001b[49m\n\u001b[0;32m     22\u001b[0m \u001b[43m    \u001b[49m\u001b[38;5;28;43mprint\u001b[39;49m\u001b[43m(\u001b[49m\u001b[38;5;124;43m'\u001b[39;49m\u001b[38;5;124;43mThis is the base function\u001b[39;49m\u001b[38;5;124;43m'\u001b[39;49m\u001b[43m)\u001b[49m\n",
      "Cell \u001b[1;32mIn[14], line 17\u001b[0m, in \u001b[0;36mdec\u001b[1;34m(x)\u001b[0m\n\u001b[0;32m     15\u001b[0m     x()\n\u001b[0;32m     16\u001b[0m     \u001b[38;5;28mprint\u001b[39m(\u001b[38;5;124m'\u001b[39m\u001b[38;5;124mDecorated done!\u001b[39m\u001b[38;5;124m'\u001b[39m)\n\u001b[1;32m---> 17\u001b[0m \u001b[38;5;28;01mreturn\u001b[39;00m \u001b[43mmfunc\u001b[49m\u001b[43m(\u001b[49m\u001b[43m)\u001b[49m\n",
      "Cell \u001b[1;32mIn[14], line 15\u001b[0m, in \u001b[0;36mdec.<locals>.mfunc\u001b[1;34m()\u001b[0m\n\u001b[0;32m     12\u001b[0m \u001b[38;5;28;01mdef\u001b[39;00m \u001b[38;5;21mmfunc\u001b[39m():\n\u001b[0;32m     14\u001b[0m     \u001b[38;5;28mprint\u001b[39m(\u001b[38;5;124m'\u001b[39m\u001b[38;5;124mThis is the 1st decorater function\u001b[39m\u001b[38;5;124m'\u001b[39m)\n\u001b[1;32m---> 15\u001b[0m     \u001b[43mx\u001b[49m\u001b[43m(\u001b[49m\u001b[43m)\u001b[49m\n\u001b[0;32m     16\u001b[0m     \u001b[38;5;28mprint\u001b[39m(\u001b[38;5;124m'\u001b[39m\u001b[38;5;124mDecorated done!\u001b[39m\u001b[38;5;124m'\u001b[39m)\n",
      "\u001b[1;31mTypeError\u001b[0m: 'NoneType' object is not callable"
     ]
    }
   ],
   "source": [
    "def dec2(x):\n",
    "    \n",
    "    def mfunc2():\n",
    "        print('I am the 2nd decorater')\n",
    "        x()\n",
    "    \n",
    "    return mfunc2()\n",
    "\n",
    "\n",
    "def dec(x):\n",
    "    \n",
    "    def mfunc():\n",
    "        \n",
    "        print('This is the 1st decorater function')\n",
    "        x()\n",
    "        print('Decorated done!')\n",
    "    return mfunc()\n",
    "\n",
    "@dec\n",
    "@dec2\n",
    "def func():\n",
    "    print('This is the base function')\n"
   ]
  },
  {
   "cell_type": "code",
   "execution_count": 88,
   "id": "6c190ecc",
   "metadata": {
    "tags": []
   },
   "outputs": [
    {
     "name": "stdout",
     "output_type": "stream",
     "text": [
      "100\n"
     ]
    },
    {
     "ename": "TypeError",
     "evalue": "'NoneType' object is not callable",
     "output_type": "error",
     "traceback": [
      "\u001b[1;31m---------------------------------------------------------------------------\u001b[0m",
      "\u001b[1;31mTypeError\u001b[0m                                 Traceback (most recent call last)",
      "Cell \u001b[1;32mIn[88], line 16\u001b[0m\n\u001b[0;32m     13\u001b[0m         \u001b[38;5;28;01mreturn\u001b[39;00m val \u001b[38;5;241m*\u001b[39m\u001b[38;5;241m*\u001b[39m \u001b[38;5;241m2\u001b[39m\n\u001b[0;32m     14\u001b[0m     \u001b[38;5;28mprint\u001b[39m(mfunc())\n\u001b[1;32m---> 16\u001b[0m \u001b[38;5;129;43m@dec2\u001b[39;49m\n\u001b[0;32m     17\u001b[0m \u001b[38;5;129;43m@dec1\u001b[39;49m\n\u001b[0;32m     18\u001b[0m \u001b[38;5;28;43;01mdef\u001b[39;49;00m\u001b[43m \u001b[49m\u001b[38;5;21;43mbase\u001b[39;49m\u001b[43m(\u001b[49m\u001b[43m)\u001b[49m\u001b[43m:\u001b[49m\n\u001b[0;32m     19\u001b[0m \u001b[43m    \u001b[49m\u001b[43ma\u001b[49m\u001b[43m \u001b[49m\u001b[38;5;241;43m=\u001b[39;49m\u001b[43m \u001b[49m\u001b[38;5;241;43m10\u001b[39;49m\n\u001b[0;32m     20\u001b[0m \u001b[43m    \u001b[49m\u001b[38;5;28;43;01mreturn\u001b[39;49;00m\u001b[43m \u001b[49m\u001b[43ma\u001b[49m\n",
      "Cell \u001b[1;32mIn[88], line 8\u001b[0m, in \u001b[0;36mdec2\u001b[1;34m(x)\u001b[0m\n\u001b[0;32m      5\u001b[0m     val2 \u001b[38;5;241m=\u001b[39m x()\n\u001b[0;32m      6\u001b[0m     \u001b[38;5;28;01mreturn\u001b[39;00m val2\u001b[38;5;241m*\u001b[39m\u001b[38;5;241m*\u001b[39m\u001b[38;5;241m3\u001b[39m\n\u001b[1;32m----> 8\u001b[0m \u001b[38;5;28mprint\u001b[39m(\u001b[43mmfunc2\u001b[49m\u001b[43m(\u001b[49m\u001b[43m)\u001b[49m)\n",
      "Cell \u001b[1;32mIn[88], line 5\u001b[0m, in \u001b[0;36mdec2.<locals>.mfunc2\u001b[1;34m()\u001b[0m\n\u001b[0;32m      4\u001b[0m \u001b[38;5;28;01mdef\u001b[39;00m \u001b[38;5;21mmfunc2\u001b[39m():\n\u001b[1;32m----> 5\u001b[0m     val2 \u001b[38;5;241m=\u001b[39m \u001b[43mx\u001b[49m\u001b[43m(\u001b[49m\u001b[43m)\u001b[49m\n\u001b[0;32m      6\u001b[0m     \u001b[38;5;28;01mreturn\u001b[39;00m val2\u001b[38;5;241m*\u001b[39m\u001b[38;5;241m*\u001b[39m\u001b[38;5;241m3\u001b[39m\n",
      "\u001b[1;31mTypeError\u001b[0m: 'NoneType' object is not callable"
     ]
    }
   ],
   "source": [
    "#Error coming cuz we are invocing the function and trying to call it more than once.\n",
    "def dec2(x):\n",
    "    \n",
    "    def mfunc2():                                         \n",
    "        val2 = x() -->100()\n",
    "        return val2**3\n",
    "        \n",
    "    print(mfunc2())\n",
    "\n",
    "def dec1(x): -->x = base\n",
    "    def mfunc():\n",
    "        val = x() --> val = 10\n",
    "        return val ** 2 --> 100\n",
    "    print(mfunc())\n",
    "    \n",
    "@dec2\n",
    "@dec1\n",
    "def base():\n",
    "    a = 10\n",
    "    return a\n",
    "\n"
   ]
  },
  {
   "cell_type": "code",
   "execution_count": 93,
   "id": "dee3416d-7f26-41f7-bc60-2946a1ecee2b",
   "metadata": {
    "tags": []
   },
   "outputs": [
    {
     "name": "stdout",
     "output_type": "stream",
     "text": [
      "1000000\n"
     ]
    }
   ],
   "source": [
    "#this is not throwing error, cuz of the concept of funciton invocation and function passing.\n",
    "# read it then try to understand this.\n",
    "def dec2(x=mfunc):\n",
    "    \n",
    "    def mfunc2():\n",
    "        val2 = x() \n",
    "        return val2**3 -->10^6\n",
    "        \n",
    "    return mfunc2\n",
    "\n",
    "def dec1(x=base):\n",
    "    def mfunc():\n",
    "        val = x()\n",
    "        return val ** 2\n",
    "    return mfunc\n",
    "\n",
    "@dec2\n",
    "@dec1\n",
    "def base():\n",
    "    a = 10\n",
    "    return a\n",
    "\n",
    "\n",
    "print(mfunc2())"
   ]
  },
  {
   "cell_type": "code",
   "execution_count": 35,
   "id": "2ccd31e0-b0a2-454d-a8a3-658b0cbb34c1",
   "metadata": {
    "tags": []
   },
   "outputs": [
    {
     "name": "stdout",
     "output_type": "stream",
     "text": [
      "10.0\n"
     ]
    }
   ],
   "source": [
    "#this is not throwing error, cuz of the concept of funciton invocation and function passing.\n",
    "# read it then try to understand this.\n",
    "def dec4(x):\n",
    "    def mfunc4():\n",
    "        val4 = x()\n",
    "        return val4/10\n",
    "    \n",
    "    return mfunc4\n",
    "\n",
    "def dec3(x):\n",
    "    \n",
    "    def mfunc3():\n",
    "        val3 = x()\n",
    "        return val3**2\n",
    "    \n",
    "    return mfunc3\n",
    "    \n",
    "    \n",
    "def dec2(x):\n",
    "    \n",
    "    def mfunc2():\n",
    "        val2 = x()\n",
    "        return val2/10\n",
    "        \n",
    "    return mfunc2\n",
    "\n",
    "def dec1(x):\n",
    "    def mfunc():\n",
    "        val = x()\n",
    "        return val ** 2\n",
    "    return mfunc\n",
    "\n",
    "@dec4\n",
    "@dec3\n",
    "@dec2\n",
    "@dec1\n",
    "def base():\n",
    "    a = 10\n",
    "    return a\n",
    "\n",
    "result = base()\n",
    "print(result)"
   ]
  },
  {
   "cell_type": "code",
   "execution_count": 76,
   "id": "adb6ec07-6366-47a8-ad38-475ff93499ed",
   "metadata": {
    "tags": []
   },
   "outputs": [],
   "source": [
    "# Oops\n",
    "# Access modifiers\n",
    "# Exception Handling\n",
    "class HomoSapiens():\n",
    "    a = 10\n",
    "    b = 20\n",
    "    def walk():\n",
    "        return 20"
   ]
  },
  {
   "cell_type": "code",
   "execution_count": 77,
   "id": "c4ffa83c-6d7f-4605-8551-bd326c3dedaa",
   "metadata": {
    "tags": []
   },
   "outputs": [
    {
     "data": {
      "text/plain": [
       "__main__.HomoSapiens"
      ]
     },
     "execution_count": 77,
     "metadata": {},
     "output_type": "execute_result"
    }
   ],
   "source": [
    "type(HomoSapiens())"
   ]
  },
  {
   "cell_type": "code",
   "execution_count": 78,
   "id": "ce5dc0f6-eb90-4c0b-997b-994a58c3b917",
   "metadata": {
    "tags": []
   },
   "outputs": [
    {
     "data": {
      "text/plain": [
       "2691875638480"
      ]
     },
     "execution_count": 78,
     "metadata": {},
     "output_type": "execute_result"
    }
   ],
   "source": [
    "id(HomoSapiens())"
   ]
  },
  {
   "cell_type": "code",
   "execution_count": 79,
   "id": "7e99fc06-4968-4f12-b299-73e90ef831e6",
   "metadata": {
    "tags": []
   },
   "outputs": [
    {
     "data": {
      "text/plain": [
       "56"
      ]
     },
     "execution_count": 79,
     "metadata": {},
     "output_type": "execute_result"
    }
   ],
   "source": [
    "import sys\n",
    "sys.getsizeof(HomoSapiens())"
   ]
  },
  {
   "cell_type": "code",
   "execution_count": 80,
   "id": "c2f73ba1-3683-4387-ba66-f8539b6c7448",
   "metadata": {
    "tags": []
   },
   "outputs": [],
   "source": [
    "class Animals():\n",
    "    a = 4"
   ]
  },
  {
   "cell_type": "code",
   "execution_count": 81,
   "id": "df56abda-ce76-4bc8-b626-0cbb87acde32",
   "metadata": {
    "tags": []
   },
   "outputs": [
    {
     "data": {
      "text/plain": [
       "56"
      ]
     },
     "execution_count": 81,
     "metadata": {},
     "output_type": "execute_result"
    }
   ],
   "source": [
    "sys.getsizeof(Animals())"
   ]
  },
  {
   "cell_type": "code",
   "execution_count": 82,
   "id": "8854b30b-bc87-4d59-98b6-fd96ba840302",
   "metadata": {
    "tags": []
   },
   "outputs": [],
   "source": [
    "yashish = HomoSapiens()"
   ]
  },
  {
   "cell_type": "code",
   "execution_count": 83,
   "id": "f7a0734f-84d7-434a-865d-ee71fb0877bd",
   "metadata": {
    "tags": []
   },
   "outputs": [
    {
     "data": {
      "text/plain": [
       "__main__.HomoSapiens"
      ]
     },
     "execution_count": 83,
     "metadata": {},
     "output_type": "execute_result"
    }
   ],
   "source": [
    "type(yashish)"
   ]
  },
  {
   "cell_type": "code",
   "execution_count": 84,
   "id": "5f583ecd-f9a2-406d-9716-c2c0d58b039c",
   "metadata": {
    "tags": []
   },
   "outputs": [
    {
     "data": {
      "text/plain": [
       "20"
      ]
     },
     "execution_count": 84,
     "metadata": {},
     "output_type": "execute_result"
    }
   ],
   "source": [
    "yashish.b"
   ]
  },
  {
   "cell_type": "code",
   "execution_count": 87,
   "id": "85a86fe6-0b5b-4c7c-860c-4b7210c6d9c3",
   "metadata": {
    "tags": []
   },
   "outputs": [
    {
     "ename": "TypeError",
     "evalue": "HomoSapiens.walk() takes 0 positional arguments but 1 was given",
     "output_type": "error",
     "traceback": [
      "\u001b[1;31m---------------------------------------------------------------------------\u001b[0m",
      "\u001b[1;31mTypeError\u001b[0m                                 Traceback (most recent call last)",
      "Cell \u001b[1;32mIn[87], line 1\u001b[0m\n\u001b[1;32m----> 1\u001b[0m \u001b[43myashish\u001b[49m\u001b[38;5;241;43m.\u001b[39;49m\u001b[43mwalk\u001b[49m\u001b[43m(\u001b[49m\u001b[43m)\u001b[49m\n",
      "\u001b[1;31mTypeError\u001b[0m: HomoSapiens.walk() takes 0 positional arguments but 1 was given"
     ]
    }
   ],
   "source": [
    "yashish.walk()"
   ]
  },
  {
   "cell_type": "code",
   "execution_count": 95,
   "id": "1c4a3947-b3a0-47fa-b027-4edcd5d67db3",
   "metadata": {
    "tags": []
   },
   "outputs": [
    {
     "name": "stdout",
     "output_type": "stream",
     "text": [
      "100\n"
     ]
    }
   ],
   "source": [
    "def dec1(x):\n",
    "    def mfunc():\n",
    "        val = x()\n",
    "        return val*10\n",
    "    return mfunc\n",
    "@dec1\n",
    "def func():\n",
    "    return 10\n",
    "print(func())"
   ]
  },
  {
   "cell_type": "code",
   "execution_count": 103,
   "id": "cf1e5161-3fdc-4ba8-a52f-2362f0ebaefa",
   "metadata": {
    "tags": []
   },
   "outputs": [
    {
     "name": "stdout",
     "output_type": "stream",
     "text": [
      "Yashish\n",
      "22\n",
      "Deepanjan\n",
      "22\n",
      "I have 1 leg only\n"
     ]
    }
   ],
   "source": [
    "#class\n",
    "class Human():\n",
    "    \n",
    "    #Attributes\n",
    "    hand = 2\n",
    "    leg = 2\n",
    "    eye = 2\n",
    "    ear = 2\n",
    "\n",
    "    #Methods/functions\n",
    "    def __init__(self,name,age):\n",
    "        self.name = name\n",
    "        self.age = age\n",
    "        \n",
    "    def display_val(self):\n",
    "        print(self.name)\n",
    "        print(self.age)\n",
    "    def handicap(self):\n",
    "        self.leg = self.leg - 1\n",
    "        print('I have {} leg only'.format(self.leg))\n",
    "        \n",
    "#object of class Human        \n",
    "yashish = Human('Yashish','22')\n",
    "yashish.display_val()\n",
    "\n",
    "deepu = Human('Deepanjan','22')\n",
    "deepu.display_val()\n",
    "deepu.handicap()\n",
    "    "
   ]
  },
  {
   "cell_type": "code",
   "execution_count": 105,
   "id": "32d0e787-3369-4adb-9bed-c6e0cb6214cf",
   "metadata": {
    "tags": []
   },
   "outputs": [
    {
     "data": {
      "text/plain": [
       "2"
      ]
     },
     "execution_count": 105,
     "metadata": {},
     "output_type": "execute_result"
    }
   ],
   "source": [
    "#class\n",
    "class Human():\n",
    "    \n",
    "    #Attributes\n",
    "    hand = 2\n",
    "    leg = 2\n",
    "    eye = 2\n",
    "    ear = 2\n",
    "\n",
    "    #Methods/functions\n",
    "    #Non-Parameterized Initialized Constructor\n",
    "    def __init__(self):\n",
    "        self.hands = 2\n",
    "        self.legs = 2\n",
    "        \n",
    "    def display_val(self):\n",
    "        print(self.name)\n",
    "        print(self.age)\n",
    "    def handicap(self):\n",
    "        self.leg = self.leg - 1\n",
    "        print('I have {} leg only'.format(self.leg))\n",
    "        \n",
    "#object of class Human        \n",
    "#yashish = Human('Yashish','22')\n",
    "#yashish.display_val()\n",
    "\n",
    "#deepu = Human('Deepanjan','22')\n",
    "#deepu.display_val()\n",
    "#deepu.handicap()\n",
    "\n",
    "obj = Human()\n",
    "obj.hands\n",
    "    "
   ]
  },
  {
   "cell_type": "code",
   "execution_count": 161,
   "id": "4fb0d78b-e32d-4663-99d5-1a0483ba2ddc",
   "metadata": {
    "tags": []
   },
   "outputs": [
    {
     "name": "stdout",
     "output_type": "stream",
     "text": [
      "Yashish,Mohanty This is my second function.\n",
      "Yashish\n",
      "Mohanty\n"
     ]
    }
   ],
   "source": [
    "class MySecClass():\n",
    "    def __init__(self,a,b):\n",
    "        self.a = a\n",
    "        self.b = b\n",
    "    def mySecFunc(self):\n",
    "        return (f'{self.a},{self.b} This is my second function.')\n",
    "obj1 = MySecClass('Yashish','Mohanty')\n",
    "print(obj1.mySecFunc())\n",
    "print(obj1.a)\n",
    "print(obj1.b)"
   ]
  },
  {
   "cell_type": "markdown",
   "id": "dde7560e-cdb7-46bb-863d-7a7f09d712b4",
   "metadata": {},
   "source": [
    "# Inheritance\n",
    " - A chil class inherits/can access all the methods and attributes of the parent class\n"
   ]
  },
  {
   "cell_type": "code",
   "execution_count": 184,
   "id": "a233179c-434f-4a23-954e-70814f4568d5",
   "metadata": {
    "tags": []
   },
   "outputs": [],
   "source": [
    "class A:\n",
    "    def __init__(self):\n",
    "        self.a = 12\n",
    "        self.b = 13\n",
    "    def myAtt(self):\n",
    "        return('This is parent class A')\n",
    "    "
   ]
  },
  {
   "cell_type": "code",
   "execution_count": 201,
   "id": "13fb566c-cb72-433a-8042-1aa290343dcd",
   "metadata": {
    "tags": []
   },
   "outputs": [],
   "source": [
    "class B():\n",
    "    def myAtt2(self):\n",
    "        return('This is 2nd Parent B')"
   ]
  },
  {
   "cell_type": "code",
   "execution_count": 202,
   "id": "b16cb8a6-91c4-4038-ae21-da4bfe6c2d52",
   "metadata": {
    "tags": []
   },
   "outputs": [],
   "source": [
    "class C(A,B):\n",
    "    pass"
   ]
  },
  {
   "cell_type": "code",
   "execution_count": 204,
   "id": "a124c354-f20e-4474-b090-c993170f2a6d",
   "metadata": {
    "tags": []
   },
   "outputs": [],
   "source": [
    "yashish = C()"
   ]
  },
  {
   "cell_type": "code",
   "execution_count": 205,
   "id": "b508e350-9625-4515-a1e6-df04b1ba8722",
   "metadata": {
    "tags": []
   },
   "outputs": [
    {
     "data": {
      "text/plain": [
       "13"
      ]
     },
     "execution_count": 205,
     "metadata": {},
     "output_type": "execute_result"
    }
   ],
   "source": [
    "yashish.b"
   ]
  },
  {
   "cell_type": "code",
   "execution_count": 206,
   "id": "65ffc17e-ded6-4fb4-ae17-2d23aa14d24a",
   "metadata": {
    "tags": []
   },
   "outputs": [
    {
     "data": {
      "text/plain": [
       "12"
      ]
     },
     "execution_count": 206,
     "metadata": {},
     "output_type": "execute_result"
    }
   ],
   "source": [
    "yashish.a"
   ]
  },
  {
   "cell_type": "code",
   "execution_count": 208,
   "id": "0b1270c6-9f57-47fd-b1d4-b90a9fa46215",
   "metadata": {
    "tags": []
   },
   "outputs": [
    {
     "data": {
      "text/plain": [
       "'This is parent class A'"
      ]
     },
     "execution_count": 208,
     "metadata": {},
     "output_type": "execute_result"
    }
   ],
   "source": [
    "yashish.myAtt()"
   ]
  },
  {
   "cell_type": "code",
   "execution_count": 207,
   "id": "10671a3a-a922-4c3f-abcf-f2433045b81d",
   "metadata": {
    "tags": []
   },
   "outputs": [
    {
     "data": {
      "text/plain": [
       "'This is 2nd Parent B'"
      ]
     },
     "execution_count": 207,
     "metadata": {},
     "output_type": "execute_result"
    }
   ],
   "source": [
    "yashish.myAtt2()"
   ]
  },
  {
   "cell_type": "code",
   "execution_count": 209,
   "id": "988777dc-287a-4471-9241-b6a92ea643da",
   "metadata": {
    "tags": []
   },
   "outputs": [],
   "source": [
    "#Self\n",
    "#NameSpace\n",
    "#Interning"
   ]
  },
  {
   "cell_type": "code",
   "execution_count": 242,
   "id": "1245a220-564c-4eb8-a45d-667d27470409",
   "metadata": {
    "tags": []
   },
   "outputs": [],
   "source": [
    "class A():\n",
    "    a = None\n",
    "    b = None\n",
    "    def __init__(self,c,d):\n",
    "        self.c = c\n",
    "        self.d = d"
   ]
  },
  {
   "cell_type": "code",
   "execution_count": 262,
   "id": "3a3665d8-8d62-4a66-b16b-3368db35e4a9",
   "metadata": {
    "tags": []
   },
   "outputs": [],
   "source": [
    "y = A(1,123)"
   ]
  },
  {
   "cell_type": "code",
   "execution_count": 263,
   "id": "e8896356-8b5f-4806-a2d7-a1dbc8d73f5f",
   "metadata": {
    "tags": []
   },
   "outputs": [
    {
     "data": {
      "text/plain": [
       "10"
      ]
     },
     "execution_count": 263,
     "metadata": {},
     "output_type": "execute_result"
    }
   ],
   "source": [
    "y.a = 10\n",
    "y.a"
   ]
  },
  {
   "cell_type": "code",
   "execution_count": 264,
   "id": "8b806f8e-e358-495c-a206-1eee2e682b77",
   "metadata": {
    "tags": []
   },
   "outputs": [
    {
     "data": {
      "text/plain": [
       "100"
      ]
     },
     "execution_count": 264,
     "metadata": {},
     "output_type": "execute_result"
    }
   ],
   "source": [
    "y.b = 100\n",
    "y.b"
   ]
  },
  {
   "cell_type": "code",
   "execution_count": 265,
   "id": "dbbbe2f6-5ee5-4591-8b0d-a1b1870e39e1",
   "metadata": {
    "tags": []
   },
   "outputs": [
    {
     "data": {
      "text/plain": [
       "1"
      ]
     },
     "execution_count": 265,
     "metadata": {},
     "output_type": "execute_result"
    }
   ],
   "source": [
    "y.c"
   ]
  },
  {
   "cell_type": "code",
   "execution_count": 266,
   "id": "9873aaf1-1442-4ae3-982b-ef05913b008c",
   "metadata": {
    "tags": []
   },
   "outputs": [
    {
     "data": {
      "text/plain": [
       "123"
      ]
     },
     "execution_count": 266,
     "metadata": {},
     "output_type": "execute_result"
    }
   ],
   "source": [
    "y.d"
   ]
  },
  {
   "cell_type": "code",
   "execution_count": 267,
   "id": "c7d96c88-fc53-402a-aad0-ebdf0cb1f170",
   "metadata": {
    "tags": []
   },
   "outputs": [],
   "source": [
    "## Inheritance"
   ]
  },
  {
   "cell_type": "code",
   "execution_count": 390,
   "id": "791214b4-f427-4863-94d6-29037e62d26c",
   "metadata": {
    "tags": []
   },
   "outputs": [],
   "source": [
    "class Parent:\n",
    "    def __init__(self,a,b):\n",
    "        self.a = a\n",
    "        self.b = b\n",
    "        \n",
    "        "
   ]
  },
  {
   "cell_type": "code",
   "execution_count": 303,
   "id": "2a91a23d-d7b4-42fb-b4a1-53c4a071075d",
   "metadata": {
    "tags": []
   },
   "outputs": [],
   "source": [
    "class Base(Parent):\n",
    "    def __init__(self,a,b,c):\n",
    "        self.c = c\n",
    "        super().__init__(a=a,b=b)"
   ]
  },
  {
   "cell_type": "code",
   "execution_count": 304,
   "id": "9a9679d4-2188-49e7-a197-dcc8a663dc1b",
   "metadata": {
    "tags": []
   },
   "outputs": [],
   "source": [
    "obj = Base(1,2,3)"
   ]
  },
  {
   "cell_type": "code",
   "execution_count": 305,
   "id": "cbcdb389-9098-49bc-b17b-0b7ead24d178",
   "metadata": {
    "tags": []
   },
   "outputs": [
    {
     "data": {
      "text/plain": [
       "1"
      ]
     },
     "execution_count": 305,
     "metadata": {},
     "output_type": "execute_result"
    }
   ],
   "source": [
    "obj.a"
   ]
  },
  {
   "cell_type": "code",
   "execution_count": 306,
   "id": "f31813ee-40e0-48a3-95db-a1fd32ce617a",
   "metadata": {
    "tags": []
   },
   "outputs": [
    {
     "data": {
      "text/plain": [
       "2"
      ]
     },
     "execution_count": 306,
     "metadata": {},
     "output_type": "execute_result"
    }
   ],
   "source": [
    "obj.b"
   ]
  },
  {
   "cell_type": "code",
   "execution_count": 307,
   "id": "55fa8863-5f25-4fe1-bc32-ab2476e777c5",
   "metadata": {
    "tags": []
   },
   "outputs": [
    {
     "data": {
      "text/plain": [
       "3"
      ]
     },
     "execution_count": 307,
     "metadata": {},
     "output_type": "execute_result"
    }
   ],
   "source": [
    "obj.c"
   ]
  },
  {
   "cell_type": "code",
   "execution_count": 374,
   "id": "9cc7b96a-9a67-4eee-a5b9-916efea06430",
   "metadata": {
    "tags": []
   },
   "outputs": [],
   "source": [
    "class A1:\n",
    "    def __init__(self):\n",
    "        self.aa = 4\n",
    "        self.bb = 4\n",
    "        self.cb = 4"
   ]
  },
  {
   "cell_type": "code",
   "execution_count": 375,
   "id": "66abab03-3cc1-48c7-bffa-9d38035a8494",
   "metadata": {
    "tags": []
   },
   "outputs": [],
   "source": [
    "class B1(A1):\n",
    "    def __init__(self):\n",
    "        super().__init__()"
   ]
  },
  {
   "cell_type": "code",
   "execution_count": 376,
   "id": "ccfad286-4f16-44b6-892a-a3d84fa38b90",
   "metadata": {
    "tags": []
   },
   "outputs": [],
   "source": [
    "obj1 = B1()"
   ]
  },
  {
   "cell_type": "code",
   "execution_count": 377,
   "id": "ba572744-275e-477e-b58f-6e2efd80fb66",
   "metadata": {
    "tags": []
   },
   "outputs": [
    {
     "data": {
      "text/plain": [
       "4"
      ]
     },
     "execution_count": 377,
     "metadata": {},
     "output_type": "execute_result"
    }
   ],
   "source": [
    "obj1.aa"
   ]
  },
  {
   "cell_type": "code",
   "execution_count": 378,
   "id": "22735330-ac4f-4f7f-9bca-94d5465ed8d2",
   "metadata": {
    "tags": []
   },
   "outputs": [
    {
     "ename": "AttributeError",
     "evalue": "type object 'B1' has no attribute 'b'",
     "output_type": "error",
     "traceback": [
      "\u001b[1;31m---------------------------------------------------------------------------\u001b[0m",
      "\u001b[1;31mAttributeError\u001b[0m                            Traceback (most recent call last)",
      "Cell \u001b[1;32mIn[378], line 1\u001b[0m\n\u001b[1;32m----> 1\u001b[0m \u001b[43mB1\u001b[49m\u001b[38;5;241;43m.\u001b[39;49m\u001b[43mb\u001b[49m\n",
      "\u001b[1;31mAttributeError\u001b[0m: type object 'B1' has no attribute 'b'"
     ]
    }
   ],
   "source": [
    "B1.b"
   ]
  },
  {
   "cell_type": "code",
   "execution_count": 379,
   "id": "f4afc090-4717-46af-ace0-5fb5e3f0dc8e",
   "metadata": {
    "tags": []
   },
   "outputs": [
    {
     "ename": "AttributeError",
     "evalue": "type object 'B1' has no attribute 'c'",
     "output_type": "error",
     "traceback": [
      "\u001b[1;31m---------------------------------------------------------------------------\u001b[0m",
      "\u001b[1;31mAttributeError\u001b[0m                            Traceback (most recent call last)",
      "Cell \u001b[1;32mIn[379], line 1\u001b[0m\n\u001b[1;32m----> 1\u001b[0m \u001b[43mB1\u001b[49m\u001b[38;5;241;43m.\u001b[39;49m\u001b[43mc\u001b[49m\n",
      "\u001b[1;31mAttributeError\u001b[0m: type object 'B1' has no attribute 'c'"
     ]
    }
   ],
   "source": [
    "B1.c"
   ]
  },
  {
   "cell_type": "code",
   "execution_count": null,
   "id": "ce7f56ee-9733-4b5a-87dd-55202048c07d",
   "metadata": {},
   "outputs": [],
   "source": []
  },
  {
   "cell_type": "code",
   "execution_count": 386,
   "id": "79d096e8-1fb1-41df-8257-1eec2ac6a57d",
   "metadata": {
    "tags": []
   },
   "outputs": [],
   "source": [
    "# Multi-level Inheritance"
   ]
  },
  {
   "cell_type": "code",
   "execution_count": 7,
   "id": "5c37674c-4e3e-4c17-9777-6a48509ebf93",
   "metadata": {
    "tags": []
   },
   "outputs": [],
   "source": [
    "class A2():\n",
    "    def __init__(self):\n",
    "        self.a = 10\n",
    "        self.b = 20\n",
    "class B2(A2):\n",
    "    def __init__(self):\n",
    "        self.c = 10\n",
    "        self.d = 20\n",
    "class C2(B2):\n",
    "    def __init__(self):\n",
    "        self.e = 10\n",
    "        self.f = 20"
   ]
  },
  {
   "cell_type": "code",
   "execution_count": 8,
   "id": "19711a6f-a8ee-46e9-af04-f26d82f7ebcd",
   "metadata": {
    "tags": []
   },
   "outputs": [],
   "source": [
    "obj = C2()"
   ]
  },
  {
   "cell_type": "code",
   "execution_count": 9,
   "id": "0f5a03e1-b448-47b3-b84c-5baf7b7497fd",
   "metadata": {
    "tags": []
   },
   "outputs": [
    {
     "ename": "AttributeError",
     "evalue": "'C2' object has no attribute 'a'",
     "output_type": "error",
     "traceback": [
      "\u001b[1;31m---------------------------------------------------------------------------\u001b[0m",
      "\u001b[1;31mAttributeError\u001b[0m                            Traceback (most recent call last)",
      "Cell \u001b[1;32mIn[9], line 1\u001b[0m\n\u001b[1;32m----> 1\u001b[0m \u001b[43mobj\u001b[49m\u001b[38;5;241;43m.\u001b[39;49m\u001b[43ma\u001b[49m\n",
      "\u001b[1;31mAttributeError\u001b[0m: 'C2' object has no attribute 'a'"
     ]
    }
   ],
   "source": [
    "obj.a"
   ]
  },
  {
   "cell_type": "code",
   "execution_count": 10,
   "id": "4ed0b973-2c7e-4d3a-ba05-4ccd58e00c82",
   "metadata": {
    "tags": []
   },
   "outputs": [],
   "source": [
    "class A2():\n",
    "    a = 10\n",
    "    b = 20\n",
    "class B2(A2):\n",
    "    c = 10\n",
    "    d = 20\n",
    "class C2(B2):\n",
    "    e = 10\n",
    "    f = 20"
   ]
  },
  {
   "cell_type": "code",
   "execution_count": 11,
   "id": "eb4809e3-b79e-4757-8664-00d585ea0af5",
   "metadata": {
    "tags": []
   },
   "outputs": [],
   "source": [
    "ob = C2()"
   ]
  },
  {
   "cell_type": "code",
   "execution_count": 12,
   "id": "005cf6de-a080-45a7-aa1b-fd638edceabe",
   "metadata": {
    "tags": []
   },
   "outputs": [
    {
     "data": {
      "text/plain": [
       "10"
      ]
     },
     "execution_count": 12,
     "metadata": {},
     "output_type": "execute_result"
    }
   ],
   "source": [
    "ob.a"
   ]
  },
  {
   "cell_type": "code",
   "execution_count": 13,
   "id": "454be556-a26f-4a20-8699-28feeb48506f",
   "metadata": {},
   "outputs": [],
   "source": [
    "class A2():\n",
    "    def __init__(self):\n",
    "        self.a = 10\n",
    "        self.b = 20\n",
    "class B2(A2):\n",
    "    def __init__(self):\n",
    "        super().__init__()\n",
    "        self.c = 10\n",
    "        self.d = 20\n",
    "class C2(B2):\n",
    "    def __init__(self):\n",
    "        super().__init__()\n",
    "        self.e = 10\n",
    "        self.f = 20"
   ]
  },
  {
   "cell_type": "code",
   "execution_count": 14,
   "id": "c45335cc-b717-471b-89ec-0d9edd3c4cee",
   "metadata": {
    "tags": []
   },
   "outputs": [],
   "source": [
    "ob2 = C2()"
   ]
  },
  {
   "cell_type": "code",
   "execution_count": 15,
   "id": "fe898cbc-2a23-4650-be1e-e2c028df998f",
   "metadata": {
    "tags": []
   },
   "outputs": [
    {
     "data": {
      "text/plain": [
       "10"
      ]
     },
     "execution_count": 15,
     "metadata": {},
     "output_type": "execute_result"
    }
   ],
   "source": [
    "ob2.a"
   ]
  },
  {
   "cell_type": "code",
   "execution_count": 16,
   "id": "655c68a8-c3d9-4641-8273-6e63b3d1cefe",
   "metadata": {
    "tags": []
   },
   "outputs": [
    {
     "ename": "TypeError",
     "evalue": "Child.__init__() missing 1 required positional argument: 'txt'",
     "output_type": "error",
     "traceback": [
      "\u001b[1;31m---------------------------------------------------------------------------\u001b[0m",
      "\u001b[1;31mTypeError\u001b[0m                                 Traceback (most recent call last)",
      "Cell \u001b[1;32mIn[16], line 12\u001b[0m\n\u001b[0;32m      9\u001b[0m     \u001b[38;5;28;01mdef\u001b[39;00m \u001b[38;5;21m__init__\u001b[39m(\u001b[38;5;28mself\u001b[39m, txt):\n\u001b[0;32m     10\u001b[0m         \u001b[38;5;28msuper\u001b[39m()\u001b[38;5;241m.\u001b[39m\u001b[38;5;21m__init__\u001b[39m(txt)\n\u001b[1;32m---> 12\u001b[0m x \u001b[38;5;241m=\u001b[39m \u001b[43mChild\u001b[49m\u001b[43m(\u001b[49m\u001b[43m)\u001b[49m\n\u001b[0;32m     13\u001b[0m x\u001b[38;5;241m.\u001b[39mprintmessage()\n",
      "\u001b[1;31mTypeError\u001b[0m: Child.__init__() missing 1 required positional argument: 'txt'"
     ]
    }
   ],
   "source": [
    "class Parent:\n",
    "    def __init__(self, txt='This is sample'):\n",
    "        self.message = txt\n",
    "\n",
    "    def printmessage(self):\n",
    "        print(self.message)\n",
    "\n",
    "class Child(Parent):\n",
    "    def __init__(self, txt):\n",
    "        super().__init__(txt)\n",
    "\n",
    "x = Child()\n",
    "x.printmessage()\n"
   ]
  },
  {
   "cell_type": "code",
   "execution_count": 17,
   "id": "9e4ab586-5a7a-4330-8cda-ee962f2c2940",
   "metadata": {
    "tags": []
   },
   "outputs": [
    {
     "name": "stdout",
     "output_type": "stream",
     "text": [
      "5.0\n"
     ]
    }
   ],
   "source": [
    "#you have a base function with 2 parameters and returns a/b\n",
    "#but when a>b then a/b, but when b>a, then b/a\n",
    "\n",
    "def dec(x):\n",
    "    def mfunc(a,b):\n",
    "        if (b>a):\n",
    "            a,b = b,a\n",
    "        val =  x(a,b)\n",
    "        return val\n",
    "    return mfunc\n",
    "\n",
    "@dec\n",
    "def base(a,b):\n",
    "    return a/b\n",
    "\n",
    "result = base(20, 100) \n",
    "print(result)"
   ]
  },
  {
   "cell_type": "code",
   "execution_count": 18,
   "id": "46146233-a25e-4613-80a8-784a2b31f18e",
   "metadata": {
    "tags": []
   },
   "outputs": [
    {
     "name": "stdout",
     "output_type": "stream",
     "text": [
      "2.0\n"
     ]
    }
   ],
   "source": [
    "result = base(3, 6) \n",
    "print(result)"
   ]
  },
  {
   "cell_type": "code",
   "execution_count": 19,
   "id": "59a4b406-b86e-49cd-ac07-70a83ccee642",
   "metadata": {
    "tags": []
   },
   "outputs": [],
   "source": [
    "class Abc():\n",
    "    __a = 5\n",
    "    _b  = 10\n",
    "    c   = 20"
   ]
  },
  {
   "cell_type": "code",
   "execution_count": 20,
   "id": "b59a5b1f-a710-43d5-992d-4f4ef0baf485",
   "metadata": {
    "tags": []
   },
   "outputs": [],
   "source": [
    "obj = Abc()"
   ]
  },
  {
   "cell_type": "code",
   "execution_count": 21,
   "id": "ba8a7501-b4aa-428f-a6f4-c785bdbeae6c",
   "metadata": {
    "tags": []
   },
   "outputs": [
    {
     "data": {
      "text/plain": [
       "20"
      ]
     },
     "execution_count": 21,
     "metadata": {},
     "output_type": "execute_result"
    }
   ],
   "source": [
    "obj.c"
   ]
  },
  {
   "cell_type": "code",
   "execution_count": 22,
   "id": "fb4558ce-53d7-48bf-be22-1df400dfe0d5",
   "metadata": {
    "tags": []
   },
   "outputs": [
    {
     "ename": "AttributeError",
     "evalue": "'Abc' object has no attribute '__a'",
     "output_type": "error",
     "traceback": [
      "\u001b[1;31m---------------------------------------------------------------------------\u001b[0m",
      "\u001b[1;31mAttributeError\u001b[0m                            Traceback (most recent call last)",
      "Cell \u001b[1;32mIn[22], line 1\u001b[0m\n\u001b[1;32m----> 1\u001b[0m \u001b[43mobj\u001b[49m\u001b[38;5;241;43m.\u001b[39;49m\u001b[43m__a\u001b[49m\n",
      "\u001b[1;31mAttributeError\u001b[0m: 'Abc' object has no attribute '__a'"
     ]
    }
   ],
   "source": [
    "obj.__a"
   ]
  },
  {
   "cell_type": "code",
   "execution_count": 23,
   "id": "c0c87de5-9433-420a-b453-2a70ce250a5b",
   "metadata": {
    "tags": []
   },
   "outputs": [
    {
     "data": {
      "text/plain": [
       "20"
      ]
     },
     "execution_count": 23,
     "metadata": {},
     "output_type": "execute_result"
    }
   ],
   "source": [
    "obj._b = 20\n",
    "obj._b"
   ]
  },
  {
   "cell_type": "code",
   "execution_count": 24,
   "id": "cbb91829-ead1-41fc-b62d-bb563ae6095a",
   "metadata": {
    "tags": []
   },
   "outputs": [],
   "source": [
    "## Access Modifiers\n",
    "# Private '__'\n",
    "# protected '_'"
   ]
  },
  {
   "cell_type": "code",
   "execution_count": 25,
   "id": "2dc1a4f5-ccca-4ee2-a126-31923a2a6406",
   "metadata": {
    "tags": []
   },
   "outputs": [],
   "source": [
    "class Efg(Abc):\n",
    "    pass\n",
    "    "
   ]
  },
  {
   "cell_type": "code",
   "execution_count": 26,
   "id": "3e999e29-4833-45f2-bb3b-ec5b257f0092",
   "metadata": {
    "tags": []
   },
   "outputs": [],
   "source": [
    "obj2 = Efg()"
   ]
  },
  {
   "cell_type": "code",
   "execution_count": 27,
   "id": "7d440194-5aa5-4bbb-83cc-32b66ba15846",
   "metadata": {
    "tags": []
   },
   "outputs": [
    {
     "data": {
      "text/plain": [
       "20"
      ]
     },
     "execution_count": 27,
     "metadata": {},
     "output_type": "execute_result"
    }
   ],
   "source": [
    "obj2.c"
   ]
  },
  {
   "cell_type": "code",
   "execution_count": 28,
   "id": "65dc4cfe-3789-4c82-a311-a4b6abc0832e",
   "metadata": {
    "tags": []
   },
   "outputs": [
    {
     "data": {
      "text/plain": [
       "10"
      ]
     },
     "execution_count": 28,
     "metadata": {},
     "output_type": "execute_result"
    }
   ],
   "source": [
    "obj2._b"
   ]
  },
  {
   "cell_type": "code",
   "execution_count": 29,
   "id": "4075df8e-060f-4b6b-8921-32e20efa2b53",
   "metadata": {
    "tags": []
   },
   "outputs": [
    {
     "ename": "AttributeError",
     "evalue": "'Efg' object has no attribute '__a'",
     "output_type": "error",
     "traceback": [
      "\u001b[1;31m---------------------------------------------------------------------------\u001b[0m",
      "\u001b[1;31mAttributeError\u001b[0m                            Traceback (most recent call last)",
      "Cell \u001b[1;32mIn[29], line 1\u001b[0m\n\u001b[1;32m----> 1\u001b[0m \u001b[43mobj2\u001b[49m\u001b[38;5;241;43m.\u001b[39;49m\u001b[43m__a\u001b[49m\n",
      "\u001b[1;31mAttributeError\u001b[0m: 'Efg' object has no attribute '__a'"
     ]
    }
   ],
   "source": [
    "obj2.__a"
   ]
  },
  {
   "cell_type": "code",
   "execution_count": 30,
   "id": "487ccf6b-6c71-44bd-ad12-7c41e89a9270",
   "metadata": {
    "tags": []
   },
   "outputs": [],
   "source": [
    "# Here in the above code we can never access __a outside of the class.\n",
    "# Only inside we can access and use __a."
   ]
  },
  {
   "cell_type": "code",
   "execution_count": 31,
   "id": "e34772ac-c4d1-442e-a4b1-b356ec24abe4",
   "metadata": {
    "tags": []
   },
   "outputs": [],
   "source": [
    "class Abc():\n",
    "    __sessionId = 'This is session ID' #this is private\n",
    "    _b  = 10 #this is protected\n",
    "    c   = 20 \n",
    "    def _login(self,sessionId):     #protected function/method\n",
    "        if sessionId == self.__sessionId:\n",
    "            print('Login Successful')"
   ]
  },
  {
   "cell_type": "code",
   "execution_count": 32,
   "id": "c6dfb5c6-1e33-4321-a807-69fed2dc35bd",
   "metadata": {
    "tags": []
   },
   "outputs": [],
   "source": [
    "obj3 = Abc()"
   ]
  },
  {
   "cell_type": "code",
   "execution_count": 33,
   "id": "d5d7f066-a986-4d2d-8242-405079f4c01e",
   "metadata": {
    "tags": []
   },
   "outputs": [
    {
     "name": "stdout",
     "output_type": "stream",
     "text": [
      "Login Successful\n"
     ]
    }
   ],
   "source": [
    "obj3._login('This is session ID') # we can also make \n",
    "                                  # a method protected and use it."
   ]
  },
  {
   "cell_type": "code",
   "execution_count": null,
   "id": "fc024b87-9e39-411d-ac8e-c20cc2f7c4d3",
   "metadata": {},
   "outputs": [],
   "source": []
  },
  {
   "cell_type": "code",
   "execution_count": null,
   "id": "6fc9cef2-d802-409a-a2c6-03dd9f53bb5d",
   "metadata": {},
   "outputs": [],
   "source": []
  },
  {
   "cell_type": "code",
   "execution_count": null,
   "id": "9760da21-3a7a-4824-87aa-d4f81d1f245b",
   "metadata": {},
   "outputs": [],
   "source": []
  },
  {
   "cell_type": "code",
   "execution_count": null,
   "id": "d3cd36f2-7f5e-4aca-885f-662d4e3735d2",
   "metadata": {},
   "outputs": [],
   "source": []
  },
  {
   "cell_type": "code",
   "execution_count": null,
   "id": "99a45bb3-67ca-4ab6-a445-38305f62a5d0",
   "metadata": {},
   "outputs": [],
   "source": []
  },
  {
   "cell_type": "code",
   "execution_count": 34,
   "id": "e8d1330b-311c-4692-945b-6d38b12a81c9",
   "metadata": {
    "tags": []
   },
   "outputs": [
    {
     "name": "stdout",
     "output_type": "stream",
     "text": [
      "Public Data Member: Geeks\n",
      "Protected Data Member: 4\n",
      "Private Data Member: Geeks!\n",
      "Object is accessing protected member: 4\n"
     ]
    }
   ],
   "source": [
    "# Program to illustrate access modifiers of a class\n",
    "\n",
    "# Super class\n",
    "class Super:\n",
    "    \n",
    "    # Public data member\n",
    "    var1 = None\n",
    "\n",
    "    # Protected data member\n",
    "    _var2 = None\n",
    "\n",
    "    # Private data member\n",
    "    __var3 = None\n",
    "\n",
    "    # Constructor\n",
    "    def __init__(self, var1, var2, var3):\n",
    "        self.var1 = var1\n",
    "        self._var2 = var2\n",
    "        self.__var3 = var3\n",
    "\n",
    "    # Public member function\n",
    "    def displayPublicMembers(self):\n",
    "        # Accessing public data members\n",
    "        print(\"Public Data Member:\", self.var1)\n",
    "\n",
    "    # Protected member function\n",
    "    def _displayProtectedMembers(self):\n",
    "        # Accessing protected data members\n",
    "        print(\"Protected Data Member:\", self._var2)\n",
    "\n",
    "    # Private member function\n",
    "    def __displayPrivateMembers(self):\n",
    "        # Accessing private data members\n",
    "        print(\"Private Data Member:\", self.__var3)\n",
    "\n",
    "    # Public member function\n",
    "    def accessPrivateMembers(self):\n",
    "        # Accessing private member function\n",
    "        self.__displayPrivateMembers()\n",
    "\n",
    "# Derived class\n",
    "class Sub(Super):\n",
    "\n",
    "    # Constructor\n",
    "    def __init__(self, var1, var2, var3):\n",
    "        Super.__init__(self, var1, var2, var3)\n",
    "\n",
    "    # Public member function\n",
    "    def accessProtectedMembers(self):\n",
    "        # Accessing protected member functions of the super class\n",
    "        self._displayProtectedMembers()\n",
    "\n",
    "# Creating objects of the derived class\n",
    "obj = Sub(\"Geeks\", 4, \"Geeks!\")\n",
    "\n",
    "# Calling public member functions of the class\n",
    "obj.displayPublicMembers()\n",
    "obj.accessProtectedMembers()\n",
    "obj.accessPrivateMembers()\n",
    "\n",
    "# Object can access protected member\n",
    "print(\"Object is accessing protected member:\", obj._var2)\n"
   ]
  },
  {
   "cell_type": "code",
   "execution_count": 35,
   "id": "5cbd35df-6cd7-4eb0-8086-a82ac4f4dcd4",
   "metadata": {
    "tags": []
   },
   "outputs": [
    {
     "name": "stdout",
     "output_type": "stream",
     "text": [
      "Welcome to  Stark Industries\n",
      "Here  Steve  is working on  Mark 4\n",
      "The salary of  Steve  is  9999999\n"
     ]
    }
   ],
   "source": [
    "# define parent class Company\n",
    "class Company:\n",
    "    # constructor\n",
    "    def __init__(self, name, proj):\n",
    "        self.name = name      # name(name of company) is public\n",
    "        self._proj = proj     # proj(current project) is protected\n",
    "    \n",
    "    # public function to show the details\n",
    "    def show(self):\n",
    "        print(\"The code of the company is = \",self.ccode)\n",
    "\n",
    "# define child class Emp\n",
    "class Emp(Company):\n",
    "    # constructor\n",
    "    def __init__(self, eName, sal, cName, proj):\n",
    "        # calling parent class constructor\n",
    "        Company.__init__(self, cName, proj)\n",
    "        self.name = eName   # public member variable\n",
    "        self.__sal = sal    # private member variable\n",
    "    \n",
    "    # public function to show salary details\n",
    "    def show_sal(self):\n",
    "        print(\"The salary of \",self.name,\" is \",self.__sal,)\n",
    "\n",
    "# creating instance of Company class\n",
    "c = Company(\"Stark Industries\", \"Mark 4\")\n",
    "# creating instance of Employee class\n",
    "e = Emp(\"Steve\", 9999999, c.name, c._proj)\n",
    "\n",
    "print(\"Welcome to \", c.name)\n",
    "print(\"Here \", e.name,\" is working on \",e._proj)\n",
    "\n",
    "# only the instance itself can change the __sal variable\n",
    "# and to show the value we have created a public function show_sal()\n",
    "e.show_sal()"
   ]
  },
  {
   "cell_type": "code",
   "execution_count": 36,
   "id": "c7d920b9-4609-4e3a-be1b-e039ee01a82b",
   "metadata": {},
   "outputs": [
    {
     "name": "stdout",
     "output_type": "stream",
     "text": [
      "I only eat plants. I am vegetarian\n",
      "I breath oxygen to survive\n"
     ]
    }
   ],
   "source": [
    "#Method Overriding Example:\n",
    "\n",
    "class Animal:\n",
    "    Multicellular = True\n",
    "    \n",
    "    def feed(self):\n",
    "        print('I eat food')\n",
    "    \n",
    "    def breath(self):\n",
    "        print('I breath oxygen to survive')\n",
    "\n",
    "class Herbivorus(Animal):\n",
    "    def feed(self):\n",
    "        print('I only eat plants. I am vegetarian')\n",
    "\n",
    "goat = Herbivorus()\n",
    "goat.feed()\n",
    "goat.breath()"
   ]
  },
  {
   "cell_type": "code",
   "execution_count": 37,
   "id": "cee91571-64a1-4254-a19a-0ee62424d68b",
   "metadata": {},
   "outputs": [],
   "source": [
    "class MyClass:\n",
    "    def __init__(self):\n",
    "        pass\n",
    "    \n",
    "    def __str__(self):\n",
    "        return ('This class implements the __str__() functionality')\n",
    "    def __add__(self):\n",
    "        return 5+10"
   ]
  },
  {
   "cell_type": "code",
   "execution_count": 38,
   "id": "6c4a0758-6e6c-4047-988d-04749696b49b",
   "metadata": {
    "tags": []
   },
   "outputs": [],
   "source": [
    "obj = MyClass()"
   ]
  },
  {
   "cell_type": "code",
   "execution_count": 39,
   "id": "2bc5500c-6199-44f4-a343-e0dc53bc8569",
   "metadata": {
    "tags": []
   },
   "outputs": [
    {
     "name": "stdout",
     "output_type": "stream",
     "text": [
      "This class implements the __str__() functionality\n"
     ]
    }
   ],
   "source": [
    "print(obj)"
   ]
  },
  {
   "cell_type": "code",
   "execution_count": 40,
   "id": "87266098-56c6-45fa-836e-da887001addf",
   "metadata": {
    "tags": []
   },
   "outputs": [
    {
     "ename": "TypeError",
     "evalue": "sum() takes at least 1 positional argument (0 given)",
     "output_type": "error",
     "traceback": [
      "\u001b[1;31m---------------------------------------------------------------------------\u001b[0m",
      "\u001b[1;31mTypeError\u001b[0m                                 Traceback (most recent call last)",
      "Cell \u001b[1;32mIn[40], line 1\u001b[0m\n\u001b[1;32m----> 1\u001b[0m \u001b[38;5;28;43msum\u001b[39;49m\u001b[43m(\u001b[49m\u001b[43m)\u001b[49m\n",
      "\u001b[1;31mTypeError\u001b[0m: sum() takes at least 1 positional argument (0 given)"
     ]
    }
   ],
   "source": [
    "sum()"
   ]
  },
  {
   "cell_type": "code",
   "execution_count": 41,
   "id": "73081fbf-db13-41b2-8423-df5bb43ef5f9",
   "metadata": {},
   "outputs": [
    {
     "name": "stdout",
     "output_type": "stream",
     "text": [
      "Calling base() with arguments: (2, 3)\n",
      "base() return = 5 and number of times the function call happns 1\n"
     ]
    }
   ],
   "source": [
    "#1 Question: Implement a decorator to log function calls and their arguments.\n",
    "def dec_log(x):\n",
    "\n",
    "    def mfunc(*args):\n",
    "        print(f\"Calling {x.__name__}() with arguments: {args}\")\n",
    "        result = x(*args)\n",
    "        mfunc.count =+ 1\n",
    "        print(f\"{x.__name__}() return = {result} and number of times the function call happns {mfunc.count}\")\n",
    "\n",
    "    mfunc.count = 0\n",
    "    return mfunc\n",
    "\n",
    "@dec_log\n",
    "def base(a, b):\n",
    "    return a + b\n",
    "\n",
    "result = base(2, 3)\n"
   ]
  },
  {
   "cell_type": "code",
   "execution_count": 42,
   "id": "c78130d6-b968-44ec-b728-715433d4e762",
   "metadata": {
    "tags": []
   },
   "outputs": [
    {
     "name": "stdout",
     "output_type": "stream",
     "text": [
      "Calling base() with arguments: (2, 3)\n",
      "base() return = 5 and number of times the function call happens: 1\n",
      "Calling base2() with arguments: (2, 4, 5)\n",
      "base2() return = 11 and number of times the function call happens: 1\n"
     ]
    }
   ],
   "source": [
    "def dec_log(x):\n",
    "\n",
    "    def mfunc(*args):\n",
    "        mfunc.count += 1\n",
    "        print(f\"Calling {x.__name__}() with arguments: {args}\")\n",
    "        result = x(*args)\n",
    "        print(f\"{x.__name__}() return = {result} and number of times the function call happens: {mfunc.count}\")\n",
    "    mfunc.count = 0\n",
    "    return mfunc\n",
    "\n",
    "@dec_log\n",
    "def base(a, b):\n",
    "    return a + b\n",
    "\n",
    "@dec_log\n",
    "def base2(a,b,c):\n",
    "  return a+b+c\n",
    "\n",
    "result = base(2, 3)\n",
    "result2 = base2(2,4,5)"
   ]
  },
  {
   "cell_type": "code",
   "execution_count": 43,
   "id": "e378c2e8-e79b-49b6-85e1-9047e2df0443",
   "metadata": {
    "tags": []
   },
   "outputs": [
    {
     "name": "stdout",
     "output_type": "stream",
     "text": [
      "Function 'base'() has been called 1 time/s.\n",
      "Function 'base'() has been called 2 time/s.\n",
      "Function 'base'() has been called 3 time/s.\n",
      "Function 'base2'() has been called 1 time/s.\n",
      "Function 'base2'() has been called 2 time/s.\n",
      "Function 'base2'() has been called 3 time/s.\n",
      "Function 'base2'() has been called 4 time/s.\n",
      "Function 'base2'() has been called 5 time/s.\n"
     ]
    }
   ],
   "source": [
    "#2 Question: Create a decorator that counts the number of times a function is called.\n",
    "def dec_count_calls(func):\n",
    "\n",
    "    def mfunc(*args):\n",
    "        mfunc.count += 1\n",
    "        print(f\"Function '{func.__name__}'() has been called {mfunc.count} time/s.\")\n",
    "        result = func(*args)\n",
    "        return result\n",
    "    mfunc.count = 0\n",
    "    return mfunc\n",
    "\n",
    "# Usage example\n",
    "@dec_count_calls\n",
    "def base(val):\n",
    "    return f\"Hello, {val}!\"\n",
    "\n",
    "@dec_count_calls\n",
    "def base2(a, b):\n",
    "    return a + b\n",
    "\n",
    "for i in range(3):\n",
    "    base(\"Alice\")\n",
    "\n",
    "for i in range(5):\n",
    "    base2(2, 3)"
   ]
  },
  {
   "cell_type": "code",
   "execution_count": 54,
   "id": "80ec3428-86c5-4c34-a06c-f3e0f919d5f1",
   "metadata": {
    "tags": []
   },
   "outputs": [
    {
     "name": "stdout",
     "output_type": "stream",
     "text": [
      "HELLO, NICE TO MEET YOU YASHISH!\n",
      "HELLO, NICE TO MEET YOU YASHISH!\n",
      "HELLO, NICE TO MEET YOU YASHISH!\n",
      "HELLO, NICE TO MEET YOU YASHISH!\n",
      "HELLO, NICE TO MEET YOU YASHISH!\n",
      "HELLO, NICE TO MEET YOU YASHISH!\n",
      "\n"
     ]
    }
   ],
   "source": [
    "#3 Question: Write three decorators, @uppercase, @exclamation, and @repeat(n),\n",
    "# which convert a string to uppercase, add an exclamation mark, and repeat it 'n' times, respectively.\n",
    "# Apply these decorators to a function greet that takes a string as input and returns a greeting message.\n",
    "\n",
    "# Uppercase decorator\n",
    "def dec_upp(func):\n",
    "    def upp_mfunc(*args):\n",
    "        result = func(*args) #base() called here\n",
    "        return result.upper() #value is upper_cased\n",
    "    return upp_mfunc\n",
    "\n",
    "# Exclamation decorator\n",
    "def dec_exc(func):\n",
    "    def exc_mfunc(*args):\n",
    "        result = func(*args) #upp_mfunc() called here\n",
    "        return result + '!\\n' #upper_cased value is concatinated with !\n",
    "    return exc_mfunc\n",
    "\n",
    "\n",
    "# Repeat decorator\n",
    "def dec_rep(n):\n",
    "    def dec1(func):\n",
    "        def rep_mfunc(*args):\n",
    "            result = func(*args) * n\n",
    "            return result\n",
    "        return rep_mfunc\n",
    "    return dec1\n",
    "\n",
    "\n",
    "\n",
    "@dec_rep(6)\n",
    "@dec_exc\n",
    "@dec_upp\n",
    "def base(name):\n",
    "    return f\"Hello, Nice to meet you {name}\"\n",
    "\n",
    "msg = base(\"yashish\") # modified and exc_mfunc() called here\n",
    "print(msg)"
   ]
  },
  {
   "cell_type": "code",
   "execution_count": 47,
   "id": "e7979b95-d935-4198-8bc3-5298835c8d5a",
   "metadata": {
    "tags": []
   },
   "outputs": [
    {
     "ename": "TypeError",
     "evalue": "base() missing 1 required positional argument: 'name'",
     "output_type": "error",
     "traceback": [
      "\u001b[1;31m---------------------------------------------------------------------------\u001b[0m",
      "\u001b[1;31mTypeError\u001b[0m                                 Traceback (most recent call last)",
      "Cell \u001b[1;32mIn[47], line 35\u001b[0m\n\u001b[0;32m     32\u001b[0m     \u001b[38;5;28;01mreturn\u001b[39;00m \u001b[38;5;124mf\u001b[39m\u001b[38;5;124m\"\u001b[39m\u001b[38;5;124mHello, Nice to meet you \u001b[39m\u001b[38;5;132;01m{\u001b[39;00mname\u001b[38;5;132;01m}\u001b[39;00m\u001b[38;5;124m\"\u001b[39m\n\u001b[0;32m     34\u001b[0m msg \u001b[38;5;241m=\u001b[39m base(\u001b[38;5;124m\"\u001b[39m\u001b[38;5;124myashish\u001b[39m\u001b[38;5;124m\"\u001b[39m) \u001b[38;5;66;03m# modified and exc_mfunc() called here\u001b[39;00m\n\u001b[1;32m---> 35\u001b[0m \u001b[38;5;28;01mfor\u001b[39;00m i \u001b[38;5;129;01min\u001b[39;00m msg:\n\u001b[0;32m     36\u001b[0m     \u001b[38;5;28mprint\u001b[39m(i)\n",
      "Cell \u001b[1;32mIn[47], line 24\u001b[0m, in \u001b[0;36mdec_rep.<locals>.rep_mfunc\u001b[1;34m(*args)\u001b[0m\n\u001b[0;32m     22\u001b[0m \u001b[38;5;28;01mdef\u001b[39;00m \u001b[38;5;21mrep_mfunc\u001b[39m(\u001b[38;5;241m*\u001b[39margs):\n\u001b[0;32m     23\u001b[0m   \u001b[38;5;28;01mfor\u001b[39;00m i \u001b[38;5;129;01min\u001b[39;00m \u001b[38;5;28mrange\u001b[39m(\u001b[38;5;241m3\u001b[39m):\n\u001b[1;32m---> 24\u001b[0m       res \u001b[38;5;241m=\u001b[39m \u001b[43mfunc\u001b[49m\u001b[43m(\u001b[49m\u001b[43m)\u001b[49m\n\u001b[0;32m     25\u001b[0m       \u001b[38;5;28;01myield\u001b[39;00m(res)\n",
      "Cell \u001b[1;32mIn[47], line 15\u001b[0m, in \u001b[0;36mdec_exc.<locals>.exc_mfunc\u001b[1;34m(*args)\u001b[0m\n\u001b[0;32m     14\u001b[0m \u001b[38;5;28;01mdef\u001b[39;00m \u001b[38;5;21mexc_mfunc\u001b[39m(\u001b[38;5;241m*\u001b[39margs):\n\u001b[1;32m---> 15\u001b[0m     result \u001b[38;5;241m=\u001b[39m \u001b[43mfunc\u001b[49m\u001b[43m(\u001b[49m\u001b[38;5;241;43m*\u001b[39;49m\u001b[43margs\u001b[49m\u001b[43m)\u001b[49m \u001b[38;5;66;03m#upp_mfunc() called here\u001b[39;00m\n\u001b[0;32m     16\u001b[0m     \u001b[38;5;28;01mreturn\u001b[39;00m result \u001b[38;5;241m+\u001b[39m \u001b[38;5;124m'\u001b[39m\u001b[38;5;124m!\u001b[39m\u001b[38;5;130;01m\\n\u001b[39;00m\u001b[38;5;124m'\u001b[39m\n",
      "Cell \u001b[1;32mIn[47], line 8\u001b[0m, in \u001b[0;36mdec_upp.<locals>.upp_mfunc\u001b[1;34m(*args)\u001b[0m\n\u001b[0;32m      7\u001b[0m \u001b[38;5;28;01mdef\u001b[39;00m \u001b[38;5;21mupp_mfunc\u001b[39m(\u001b[38;5;241m*\u001b[39margs):\n\u001b[1;32m----> 8\u001b[0m     result \u001b[38;5;241m=\u001b[39m \u001b[43mfunc\u001b[49m\u001b[43m(\u001b[49m\u001b[38;5;241;43m*\u001b[39;49m\u001b[43margs\u001b[49m\u001b[43m)\u001b[49m \u001b[38;5;66;03m#base() called here\u001b[39;00m\n\u001b[0;32m      9\u001b[0m     \u001b[38;5;28;01mreturn\u001b[39;00m result\u001b[38;5;241m.\u001b[39mupper()\n",
      "\u001b[1;31mTypeError\u001b[0m: base() missing 1 required positional argument: 'name'"
     ]
    }
   ],
   "source": [
    "#3 Question: Write three decorators, @uppercase, @exclamation, and @repeat(n),\n",
    "# which convert a string to uppercase, add an exclamation mark, and repeat it 'n' times, respectively.\n",
    "# Apply these decorators to a function greet that takes a string as input and returns a greeting message.\n",
    "\n",
    "# Uppercase decorator\n",
    "def dec_upp(func):\n",
    "    def upp_mfunc(*args):\n",
    "        result = func(*args) #base() called here\n",
    "        return result.upper() #value is upper_cased\n",
    "    return upp_mfunc\n",
    "\n",
    "# Exclamation decorator\n",
    "def dec_exc(func):\n",
    "    def exc_mfunc(*args):\n",
    "        result = func(*args) #upp_mfunc() called here\n",
    "        return result + '!\\n' #upper_cased value is concatinated with !\n",
    "    return exc_mfunc\n",
    "\n",
    "\n",
    "#Repeat decorator\n",
    "def dec_rep(func):\n",
    "  def rep_mfunc(*args):\n",
    "    for i in range(3):\n",
    "        res = func()\n",
    "        yield(res)\n",
    "  return rep_mfunc\n",
    "\n",
    "@dec_rep\n",
    "@dec_exc\n",
    "@dec_upp\n",
    "def base(name):\n",
    "    return f\"Hello, Nice to meet you {name}\"\n",
    "\n",
    "msg = base(\"yashish\") # modified and exc_mfunc() called here\n",
    "print(msg)"
   ]
  },
  {
   "cell_type": "code",
   "execution_count": 45,
   "id": "409a3a53-6e9a-44c5-92d0-e003bb769fb0",
   "metadata": {
    "tags": []
   },
   "outputs": [
    {
     "name": "stdout",
     "output_type": "stream",
     "text": [
      "func1() took 0.034 seconds to execute.\n",
      "func2() took 0.463 seconds to execute.\n",
      "func3() took 6.040 seconds to execute.\n"
     ]
    }
   ],
   "source": []
  },
  {
   "cell_type": "code",
   "execution_count": 84,
   "id": "692d483e-501f-45a5-aee4-646f03649c61",
   "metadata": {
    "tags": []
   },
   "outputs": [
    {
     "name": "stdout",
     "output_type": "stream",
     "text": [
      "HELLO, NICE TO MEET YOU YASHISH!\n",
      "HELLO, NICE TO MEET YOU YASHISH!\n",
      "HELLO, NICE TO MEET YOU YASHISH!\n",
      "\n"
     ]
    }
   ],
   "source": [
    "#3 Question: Write three decorators, @uppercase, @exclamation, and @repeat(n),\n",
    "# which convert a string to uppercase, add an exclamation mark, and repeat it 'n' times, respectively.\n",
    "# Apply these decorators to a function greet that takes a string as input and returns a greeting message.\n",
    "\n",
    "# Uppercase decorator\n",
    "def dec_upp(func):\n",
    "    def upp_mfunc(*args):\n",
    "        result = func(*args) #base() called here\n",
    "        return result.upper() #value is upper_cased\n",
    "    return upp_mfunc\n",
    "\n",
    "# Exclamation decorator\n",
    "def dec_exc(func):\n",
    "    def exc_mfunc(*args):\n",
    "        result = func(*args) #upp_mfunc() called here\n",
    "        return result + '!\\n' #upper_cased value is concatinated with !\n",
    "    return exc_mfunc\n",
    "\n",
    "\n",
    "#Repeat decorator\n",
    "def dec_rep(func):\n",
    "    def rep_mfunc(*args):\n",
    "        result = func(*args) \n",
    "        return result * 3\n",
    "    return rep_mfunc \n",
    "\n",
    "@dec_rep\n",
    "@dec_exc\n",
    "@dec_upp\n",
    "def base(name):\n",
    "    return f\"Hello, Nice to meet you {name}\"\n",
    "\n",
    "msg = base(\"yashish\") # modified and exc_mfunc() called here\n",
    "print(msg)"
   ]
  },
  {
   "cell_type": "code",
   "execution_count": null,
   "id": "80bfa6fc-9297-4e63-937c-b96908939db2",
   "metadata": {},
   "outputs": [],
   "source": []
  },
  {
   "cell_type": "code",
   "execution_count": 25,
   "id": "535163db-84a8-423a-92e9-7049b629d6ca",
   "metadata": {},
   "outputs": [],
   "source": [
    "# Running cells with 'c:\\Users\\CZ0259\\Banking System\\venv\\python.exe' requires the ipykernel package.\n",
    "# Run the following command to install 'ipykernel' into the Python environment. \n",
    "# Command: 'conda install -p c:\\Users\\CZ0259\\Banking System\\venv ipykernel --update-deps --force-reinstall'"
   ]
  },
  {
   "cell_type": "code",
   "execution_count": null,
   "id": "cb216f54-0c52-4ea1-816f-336b2d13a060",
   "metadata": {
    "tags": []
   },
   "outputs": [
    {
     "ename": "",
     "evalue": "",
     "output_type": "error",
     "traceback": [
      "\u001b[1;31mRunning cells with 'c:\\Users\\CZ0259\\Banking System\\venv\\python.exe' requires the ipykernel package.\n",
      "\u001b[1;31mRun the following command to install 'ipykernel' into the Python environment. \n",
      "\u001b[1;31mCommand: 'conda install -p c:\\Users\\CZ0259\\Banking System\\venv ipykernel --update-deps --force-reinstall'"
     ]
    }
   ],
   "source": []
  },
  {
   "cell_type": "code",
   "execution_count": 3,
   "id": "af9fbcad-757e-4449-980f-ad3216974bb7",
   "metadata": {
    "tags": []
   },
   "outputs": [
    {
     "data": {
      "text/plain": [
       "1"
      ]
     },
     "execution_count": 3,
     "metadata": {},
     "output_type": "execute_result"
    }
   ],
   "source": [
    "def numCells(grid):\n",
    "    res = 0\n",
    "    for i in range(len(grid)):\n",
    "        for k in range(len(grid[0])):\n",
    "            val = grid[i][k]\n",
    "            flag = 1\n",
    "            for ii in range(max(0, i - 1), min(len(grid), i + 2)):\n",
    "                for kk in range(max(0, k - 1), min(len(grid[0]), k + 2)):\n",
    "                    if (ii, kk) != (i, k) and val <= grid[ii][kk]:\n",
    "                        flag = 0\n",
    "                        break\n",
    "                if flag == 0:\n",
    "                    break\n",
    "            else:\n",
    "                res += 1\n",
    "    return res\n",
    "grid = [[1,4,7],[2,5,8],[3,6,9]]\n",
    "numCells(grid)"
   ]
  },
  {
   "cell_type": "code",
   "execution_count": 8,
   "id": "5515f761-316f-4a40-802a-27ea01317696",
   "metadata": {},
   "outputs": [],
   "source": [
    "class Customer:\n",
    "    def __init__(self, customer_id, name, address, phone_number):\n",
    "        self.customer_id = customer_id\n",
    "        self.name = name\n",
    "        self.address = address\n",
    "        self.phone_number = phone_number\n",
    "\n",
    "    def get_customer_info(self):\n",
    "        return f\"Customer ID: {self.customer_id}\\n Name: {self.name}\\n Address: {self.address}\\n Phone Number: {self.phone_number}\""
   ]
  },
  {
   "cell_type": "code",
   "execution_count": 22,
   "id": "bef98995",
   "metadata": {},
   "outputs": [],
   "source": [
    "class Account:\n",
    "    def __init__(self, account_id, customer, balance=0):\n",
    "        self.account_id = account_id\n",
    "        self.customer = customer\n",
    "        self.balance = balance\n",
    "        self.transactions = []\n",
    "\n",
    "    def deposit(self, amount):\n",
    "        if amount > 0:\n",
    "            self.balance += amount\n",
    "            self.transactions.append(f\"Deposited ${amount}\")\n",
    "            return True\n",
    "        else:\n",
    "            return False\n",
    "\n",
    "    def withdraw(self, amount):\n",
    "        if 0 < amount <= self.balance:\n",
    "            self.balance -= amount\n",
    "            self.transactions.append(f\"Withdrew ${amount}\")\n",
    "            return True\n",
    "        else:\n",
    "            return False\n",
    "\n",
    "    def get_balance(self):\n",
    "        return self.balance\n",
    "\n",
    "#    def get_transaction_history(self):\n",
    "#        transaction_history = \"\"\n",
    "#        for tran in self.transactions:\n",
    "#            transaction_history += tran + \"\\n\"\n",
    "#        return transaction_history"
   ]
  },
  {
   "cell_type": "code",
   "execution_count": null,
   "id": "b7108d14",
   "metadata": {},
   "outputs": [],
   "source": []
  },
  {
   "cell_type": "markdown",
   "id": "ebeacf8b",
   "metadata": {},
   "source": [
    "## Exception Handling"
   ]
  },
  {
   "cell_type": "code",
   "execution_count": 31,
   "id": "bcc1aff3",
   "metadata": {},
   "outputs": [],
   "source": [
    "## Exception --> A break in between an execution. a.k.a Errors\n",
    "\n",
    "# Error --> A scenario that creates the Exception.\n",
    "\n",
    "#Types of Error:\n",
    "# -------------\n",
    "\n",
    "#ValueError: when we try to pass a value as an argument which the method doesnt support\n",
    "# ex: int('Yashish')\n",
    "#See NameSpace Error\n"
   ]
  },
  {
   "cell_type": "code",
   "execution_count": 32,
   "id": "6ddaaf01",
   "metadata": {},
   "outputs": [
    {
     "ename": "AssertionError",
     "evalue": "",
     "output_type": "error",
     "traceback": [
      "\u001b[1;31m---------------------------------------------------------------------------\u001b[0m",
      "\u001b[1;31mAssertionError\u001b[0m                            Traceback (most recent call last)",
      "\u001b[1;32mc:\\Users\\CZ0259\\Banking System\\Notebook\\Python Training.ipynb Cell 386\u001b[0m line \u001b[0;36m3\n\u001b[0;32m      <a href='vscode-notebook-cell:/c%3A/Users/CZ0259/Banking%20System/Notebook/Python%20Training.ipynb#Z1061sZmlsZQ%3D%3D?line=0'>1</a>\u001b[0m \u001b[39m#Assert Error:\u001b[39;00m\n\u001b[0;32m      <a href='vscode-notebook-cell:/c%3A/Users/CZ0259/Banking%20System/Notebook/Python%20Training.ipynb#Z1061sZmlsZQ%3D%3D?line=1'>2</a>\u001b[0m y \u001b[39m=\u001b[39m \u001b[39m0\u001b[39m\n\u001b[1;32m----> <a href='vscode-notebook-cell:/c%3A/Users/CZ0259/Banking%20System/Notebook/Python%20Training.ipynb#Z1061sZmlsZQ%3D%3D?line=2'>3</a>\u001b[0m \u001b[39massert\u001b[39;00m y \u001b[39m!=\u001b[39m \u001b[39m0\u001b[39m\n",
      "\u001b[1;31mAssertionError\u001b[0m: "
     ]
    }
   ],
   "source": [
    "#Assert Error:\n",
    "y = 0\n",
    "assert y != 0"
   ]
  },
  {
   "cell_type": "code",
   "execution_count": 33,
   "id": "01f9501e",
   "metadata": {},
   "outputs": [],
   "source": [
    "def fib():\n",
    "    for i in range(1,20):\n",
    "        for j in range(i-1,20):\n",
    "            return i/j\n",
    "\n"
   ]
  },
  {
   "cell_type": "code",
   "execution_count": 34,
   "id": "d3a3fed7",
   "metadata": {},
   "outputs": [
    {
     "ename": "ZeroDivisionError",
     "evalue": "division by zero",
     "output_type": "error",
     "traceback": [
      "\u001b[1;31m---------------------------------------------------------------------------\u001b[0m",
      "\u001b[1;31mZeroDivisionError\u001b[0m                         Traceback (most recent call last)",
      "\u001b[1;32mc:\\Users\\CZ0259\\Banking System\\Notebook\\Python Training.ipynb Cell 388\u001b[0m line \u001b[0;36m1\n\u001b[1;32m----> <a href='vscode-notebook-cell:/c%3A/Users/CZ0259/Banking%20System/Notebook/Python%20Training.ipynb#Z1063sZmlsZQ%3D%3D?line=0'>1</a>\u001b[0m fib()\n",
      "\u001b[1;32mc:\\Users\\CZ0259\\Banking System\\Notebook\\Python Training.ipynb Cell 388\u001b[0m line \u001b[0;36m4\n\u001b[0;32m      <a href='vscode-notebook-cell:/c%3A/Users/CZ0259/Banking%20System/Notebook/Python%20Training.ipynb#Z1063sZmlsZQ%3D%3D?line=1'>2</a>\u001b[0m \u001b[39mfor\u001b[39;00m i \u001b[39min\u001b[39;00m \u001b[39mrange\u001b[39m(\u001b[39m1\u001b[39m,\u001b[39m20\u001b[39m):\n\u001b[0;32m      <a href='vscode-notebook-cell:/c%3A/Users/CZ0259/Banking%20System/Notebook/Python%20Training.ipynb#Z1063sZmlsZQ%3D%3D?line=2'>3</a>\u001b[0m     \u001b[39mfor\u001b[39;00m j \u001b[39min\u001b[39;00m \u001b[39mrange\u001b[39m(i\u001b[39m-\u001b[39m\u001b[39m1\u001b[39m,\u001b[39m20\u001b[39m):\n\u001b[1;32m----> <a href='vscode-notebook-cell:/c%3A/Users/CZ0259/Banking%20System/Notebook/Python%20Training.ipynb#Z1063sZmlsZQ%3D%3D?line=3'>4</a>\u001b[0m         \u001b[39mreturn\u001b[39;00m i\u001b[39m/\u001b[39;49mj\n",
      "\u001b[1;31mZeroDivisionError\u001b[0m: division by zero"
     ]
    }
   ],
   "source": [
    "fib()"
   ]
  },
  {
   "cell_type": "code",
   "execution_count": null,
   "id": "f207f1c1",
   "metadata": {},
   "outputs": [],
   "source": [
    "try:\n",
    "    #This block contains the line of code that are suspected to thorw an error.\n",
    "except: \n",
    "    #This block will catch the exception that try block will throw\n",
    "    #This is mandetory with the try block\n",
    "else:\n",
    "    #This block will execute when the try block throws an error.\n",
    "    #Basically it will handle the error.\n",
    "Finally:\n",
    "    #Executes everytime"
   ]
  },
  {
   "cell_type": "code",
   "execution_count": 40,
   "id": "2dacfb43",
   "metadata": {},
   "outputs": [
    {
     "name": "stdout",
     "output_type": "stream",
     "text": [
      "division by zero\n"
     ]
    }
   ],
   "source": [
    "a = 10\n",
    "b = 0\n",
    "try:\n",
    "    a/b\n",
    "except Exception as e:\n",
    "    print(e)\n",
    "else:\n",
    "    print('No exception occured')\n"
   ]
  },
  {
   "cell_type": "code",
   "execution_count": 45,
   "id": "93bc5d5e",
   "metadata": {},
   "outputs": [
    {
     "name": "stdout",
     "output_type": "stream",
     "text": [
      "(<class 'ValueError'>, ValueError(\"invalid literal for int() with base 10: 'Subha'\"), <traceback object at 0x00000206E50860C0>)\n"
     ]
    }
   ],
   "source": [
    "import sys\n",
    "try:\n",
    "    b = int('Subha')\n",
    "except Exception as e:\n",
    "    print(sys.exc_info())"
   ]
  },
  {
   "cell_type": "code",
   "execution_count": 47,
   "id": "468aa5c3",
   "metadata": {},
   "outputs": [
    {
     "name": "stdout",
     "output_type": "stream",
     "text": [
      "cannot divide a number with 0\n"
     ]
    }
   ],
   "source": [
    "a = 10\n",
    "b = 0\n",
    "try:\n",
    "    a/b\n",
    "except ZeroDivisionError:\n",
    "    print('cannot divide a number with 0')\n",
    "else:\n",
    "    print('No exception occured')\n"
   ]
  },
  {
   "cell_type": "code",
   "execution_count": 57,
   "id": "5eca541e",
   "metadata": {},
   "outputs": [
    {
     "name": "stdout",
     "output_type": "stream",
     "text": [
      "Can not iterate over int\n"
     ]
    }
   ],
   "source": [
    "import sys\n",
    "try:\n",
    "    a = 5\n",
    "    #b = int('Yashish')\n",
    "    #c = 10/0\n",
    "    d = a[1]\n",
    "except ValueError:\n",
    "    print('Can not convert string to int')\n",
    "except ZeroDivisionError:\n",
    "    print('Can not divide by 0')\n",
    "except TypeError:\n",
    "    print('Can not iterate over int')\n",
    "else:\n",
    "    d = a\n",
    "    print(d)"
   ]
  },
  {
   "cell_type": "code",
   "execution_count": 53,
   "id": "bc0c1a02",
   "metadata": {},
   "outputs": [],
   "source": [
    "## EXceptions catching \n",
    "# - Exception as e\n",
    "# - sys.exc_info()\n",
    "# - by using the error class's name"
   ]
  },
  {
   "cell_type": "code",
   "execution_count": 1,
   "id": "ef4c58b8",
   "metadata": {},
   "outputs": [
    {
     "name": "stdout",
     "output_type": "stream",
     "text": [
      "1\n"
     ]
    }
   ],
   "source": [
    "import math\n",
    " \n",
    "result = math.e != math.pow(2, 4)\n",
    "print(int(result))"
   ]
  },
  {
   "cell_type": "code",
   "execution_count": 2,
   "id": "6b6eadcf",
   "metadata": {},
   "outputs": [
    {
     "name": "stdout",
     "output_type": "stream",
     "text": [
      "22"
     ]
    }
   ],
   "source": [
    "from random import randint\n",
    "    \n",
    "for i in range(2):\n",
    "   print(randint(1, 2), end='')"
   ]
  }
 ],
 "metadata": {
  "kernelspec": {
   "display_name": "Python 3 (ipykernel)",
   "language": "python",
   "name": "python3"
  },
  "language_info": {
   "codemirror_mode": {
    "name": "ipython",
    "version": 3
   },
   "file_extension": ".py",
   "mimetype": "text/x-python",
   "name": "python",
   "nbconvert_exporter": "python",
   "pygments_lexer": "ipython3",
   "version": "3.11.5"
  }
 },
 "nbformat": 4,
 "nbformat_minor": 5
}
